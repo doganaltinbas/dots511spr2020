{
  "nbformat": 4,
  "nbformat_minor": 0,
  "metadata": {
    "kernelspec": {
      "display_name": "Python 3",
      "language": "python",
      "name": "python3"
    },
    "language_info": {
      "codemirror_mode": {
        "name": "ipython",
        "version": 3
      },
      "file_extension": ".py",
      "mimetype": "text/x-python",
      "name": "python",
      "nbconvert_exporter": "python",
      "pygments_lexer": "ipython3",
      "version": "3.7.3"
    },
    "colab": {
      "name": "ch03-Copy1.ipynb",
      "provenance": []
    }
  },
  "cells": [
    {
      "cell_type": "markdown",
      "metadata": {
        "deletable": true,
        "editable": true,
        "id": "iaX7D9RW5DhZ",
        "colab_type": "text"
      },
      "source": [
        "# Built-in Data Structures, Functions, "
      ]
    },
    {
      "cell_type": "markdown",
      "metadata": {
        "deletable": true,
        "editable": true,
        "id": "mzGPY96P5Dhn",
        "colab_type": "text"
      },
      "source": [
        "## Data Structures and Sequences"
      ]
    },
    {
      "cell_type": "markdown",
      "metadata": {
        "deletable": true,
        "editable": true,
        "id": "VrVyXYiQ5Dhw",
        "colab_type": "text"
      },
      "source": [
        "### Tuple"
      ]
    },
    {
      "cell_type": "markdown",
      "metadata": {
        "id": "nm0Bl1_R5Dh1",
        "colab_type": "text"
      },
      "source": [
        "A tuple is a fixed-length, immutable sequence of Python objects. \n",
        "The easiest way to create one is with a comma-separated sequence of values:"
      ]
    },
    {
      "cell_type": "code",
      "metadata": {
        "deletable": true,
        "editable": true,
        "id": "caZgacTA5Dh8",
        "colab_type": "code",
        "colab": {},
        "outputId": "25e3fab2-a515-4408-c8f0-6d4cfd366cb2"
      },
      "source": [
        "tup = 4, 5, 6\n",
        "tup"
      ],
      "execution_count": 0,
      "outputs": [
        {
          "output_type": "execute_result",
          "data": {
            "text/plain": [
              "(4, 5, 6)"
            ]
          },
          "metadata": {
            "tags": []
          },
          "execution_count": 1
        }
      ]
    },
    {
      "cell_type": "code",
      "metadata": {
        "deletable": true,
        "editable": true,
        "id": "3OhAzqeA5DiX",
        "colab_type": "code",
        "colab": {}
      },
      "source": [
        "#must use paranthesis for complicated tuples: a tuple of tuples\n",
        "\n",
        "nested_tup = (4, 5, 6), (7, 8)\n",
        "nested_tup"
      ],
      "execution_count": 0,
      "outputs": []
    },
    {
      "cell_type": "code",
      "metadata": {
        "deletable": true,
        "editable": true,
        "id": "Pi6mqnFA5Dim",
        "colab_type": "code",
        "colab": {},
        "outputId": "4002cd04-d463-4f6e-a882-b0fe1e3cf16a"
      },
      "source": [
        "#You can convert any sequence or iterator to a tuple by invoking tuple:\n",
        "\n",
        "t=tuple([4, 0, 2])\n",
        "t2=tuple(\"string\")\n",
        "tup = tuple(['foo', [1, 2], True])\n",
        "tup\n"
      ],
      "execution_count": 0,
      "outputs": [
        {
          "output_type": "execute_result",
          "data": {
            "text/plain": [
              "('foo', [1, 2], True)"
            ]
          },
          "metadata": {
            "tags": []
          },
          "execution_count": 2
        }
      ]
    },
    {
      "cell_type": "code",
      "metadata": {
        "deletable": true,
        "editable": true,
        "id": "Aa9kHrHl5Di0",
        "colab_type": "code",
        "colab": {},
        "outputId": "63fd0e2b-20f5-4bad-fcdf-b4b7e93fef63"
      },
      "source": [
        "#tup[1]=[2,4]#can  be accessed with C like indexes\n",
        "print (tup[1])"
      ],
      "execution_count": 0,
      "outputs": [
        {
          "output_type": "stream",
          "text": [
            "[1, 2]\n"
          ],
          "name": "stdout"
        }
      ]
    },
    {
      "cell_type": "code",
      "metadata": {
        "deletable": true,
        "editable": true,
        "id": "cCcHHsfb5DjH",
        "colab_type": "code",
        "colab": {},
        "outputId": "cc96eb57-7c02-4fd7-fe26-ff6c86847c2f"
      },
      "source": [
        "tup = tuple(['foo', [1, 2], True])#even if the elements are mutable once in a tuple \n",
        "#once the tuple is cre‐ ated it’s not possible to modify which object is stored in each slot:\n",
        "tup[2] = False"
      ],
      "execution_count": 0,
      "outputs": [
        {
          "output_type": "error",
          "ename": "TypeError",
          "evalue": "'tuple' object does not support item assignment",
          "traceback": [
            "\u001b[0;31m---------------------------------------------------------------------------\u001b[0m",
            "\u001b[0;31mTypeError\u001b[0m                                 Traceback (most recent call last)",
            "\u001b[0;32m<ipython-input-5-7765830289ac>\u001b[0m in \u001b[0;36m<module>\u001b[0;34m\u001b[0m\n\u001b[1;32m      1\u001b[0m \u001b[0mtup\u001b[0m \u001b[0;34m=\u001b[0m \u001b[0mtuple\u001b[0m\u001b[0;34m(\u001b[0m\u001b[0;34m[\u001b[0m\u001b[0;34m'foo'\u001b[0m\u001b[0;34m,\u001b[0m \u001b[0;34m[\u001b[0m\u001b[0;36m1\u001b[0m\u001b[0;34m,\u001b[0m \u001b[0;36m2\u001b[0m\u001b[0;34m]\u001b[0m\u001b[0;34m,\u001b[0m \u001b[0;32mTrue\u001b[0m\u001b[0;34m]\u001b[0m\u001b[0;34m)\u001b[0m\u001b[0;31m#even if the elements are mutable once in a tuple\u001b[0m\u001b[0;34m\u001b[0m\u001b[0;34m\u001b[0m\u001b[0m\n\u001b[1;32m      2\u001b[0m \u001b[0;31m#once the tuple is cre‐ ated it’s not possible to modify which object is stored in each slot:\u001b[0m\u001b[0;34m\u001b[0m\u001b[0;34m\u001b[0m\u001b[0;34m\u001b[0m\u001b[0m\n\u001b[0;32m----> 3\u001b[0;31m \u001b[0mtup\u001b[0m\u001b[0;34m[\u001b[0m\u001b[0;36m2\u001b[0m\u001b[0;34m]\u001b[0m \u001b[0;34m=\u001b[0m \u001b[0;32mFalse\u001b[0m\u001b[0;34m\u001b[0m\u001b[0;34m\u001b[0m\u001b[0m\n\u001b[0m",
            "\u001b[0;31mTypeError\u001b[0m: 'tuple' object does not support item assignment"
          ]
        }
      ]
    },
    {
      "cell_type": "code",
      "metadata": {
        "deletable": true,
        "editable": true,
        "id": "mBkbdKkk5DjX",
        "colab_type": "code",
        "colab": {},
        "outputId": "36eb91cc-681b-4c09-91ab-d261280970f8"
      },
      "source": [
        "#If an object inside a tuple is mutable, such as a list, you can modify it in-place:\n",
        "tup[1].append(3)\n",
        "tup"
      ],
      "execution_count": 0,
      "outputs": [
        {
          "output_type": "execute_result",
          "data": {
            "text/plain": [
              "('foo', [1, 2, 3], True)"
            ]
          },
          "metadata": {
            "tags": []
          },
          "execution_count": 6
        }
      ]
    },
    {
      "cell_type": "code",
      "metadata": {
        "deletable": true,
        "editable": true,
        "id": "aJcbG5C75Djn",
        "colab_type": "code",
        "colab": {},
        "outputId": "687bc913-ff3f-476d-a38b-10595b76dde2"
      },
      "source": [
        "(4, None, 'foo') + (6, 0) + ('bar',)"
      ],
      "execution_count": 0,
      "outputs": [
        {
          "output_type": "execute_result",
          "data": {
            "text/plain": [
              "(4, None, 'foo', 6, 0, 'bar')"
            ]
          },
          "metadata": {
            "tags": []
          },
          "execution_count": 7
        }
      ]
    },
    {
      "cell_type": "code",
      "metadata": {
        "deletable": true,
        "editable": true,
        "id": "iV0UseVk5Dj2",
        "colab_type": "code",
        "colab": {},
        "outputId": "59e3e0ef-2408-449c-b56b-c768789620d6"
      },
      "source": [
        "('foo', 'bar') * 4"
      ],
      "execution_count": 0,
      "outputs": [
        {
          "output_type": "execute_result",
          "data": {
            "text/plain": [
              "('foo', 'bar', 'foo', 'bar', 'foo', 'bar', 'foo', 'bar')"
            ]
          },
          "metadata": {
            "tags": []
          },
          "execution_count": 8
        }
      ]
    },
    {
      "cell_type": "markdown",
      "metadata": {
        "deletable": true,
        "editable": true,
        "id": "z6QG0PSs5DkD",
        "colab_type": "text"
      },
      "source": [
        "#### Unpacking tuples"
      ]
    },
    {
      "cell_type": "code",
      "metadata": {
        "deletable": true,
        "editable": true,
        "id": "u-jxciNF5DkG",
        "colab_type": "code",
        "colab": {},
        "outputId": "1d9023ff-73d3-4158-9e4b-72c03f3a1146"
      },
      "source": [
        "tup = (4, 5, 6)\n",
        "a, b, c = tup\n",
        "a\n"
      ],
      "execution_count": 0,
      "outputs": [
        {
          "output_type": "execute_result",
          "data": {
            "text/plain": [
              "4"
            ]
          },
          "metadata": {
            "tags": []
          },
          "execution_count": 9
        }
      ]
    },
    {
      "cell_type": "code",
      "metadata": {
        "deletable": true,
        "editable": true,
        "id": "pJKnVSm_5DkV",
        "colab_type": "code",
        "colab": {},
        "outputId": "26fb1792-1cc7-488a-d76a-0d7e6502cae3"
      },
      "source": [
        "b"
      ],
      "execution_count": 0,
      "outputs": [
        {
          "output_type": "execute_result",
          "data": {
            "text/plain": [
              "5"
            ]
          },
          "metadata": {
            "tags": []
          },
          "execution_count": 10
        }
      ]
    },
    {
      "cell_type": "code",
      "metadata": {
        "deletable": true,
        "editable": true,
        "id": "xTklUZ8W5Dkm",
        "colab_type": "code",
        "colab": {}
      },
      "source": [
        "#a funny swap\n",
        "a,b=b,a\n",
        "a"
      ],
      "execution_count": 0,
      "outputs": []
    },
    {
      "cell_type": "code",
      "metadata": {
        "deletable": true,
        "editable": true,
        "id": "kUfwsae45Dk0",
        "colab_type": "code",
        "colab": {}
      },
      "source": [
        "b"
      ],
      "execution_count": 0,
      "outputs": []
    },
    {
      "cell_type": "code",
      "metadata": {
        "deletable": true,
        "editable": true,
        "id": "1wsHRkHt5Dk9",
        "colab_type": "code",
        "colab": {}
      },
      "source": [
        "tup = 4, 5, (6, 7)\n",
        "#Even sequences with nested tuples can be unpacked:\n",
        "a, b, (c, d) = tup\n",
        "d"
      ],
      "execution_count": 0,
      "outputs": []
    },
    {
      "cell_type": "code",
      "metadata": {
        "deletable": true,
        "editable": true,
        "id": "otQBU26g5DlU",
        "colab_type": "code",
        "colab": {}
      },
      "source": [
        "tmp = a\n",
        "a = b\n",
        "b = tmp"
      ],
      "execution_count": 0,
      "outputs": []
    },
    {
      "cell_type": "code",
      "metadata": {
        "deletable": true,
        "editable": true,
        "id": "YROfHoPR5Dlc",
        "colab_type": "code",
        "colab": {}
      },
      "source": [
        "a, b = 1, 2\n",
        "a\n",
        "b\n",
        "b, a = a, b\n",
        "a\n",
        "b"
      ],
      "execution_count": 0,
      "outputs": []
    },
    {
      "cell_type": "code",
      "metadata": {
        "deletable": true,
        "editable": true,
        "id": "0k-6FH3i5Dlj",
        "colab_type": "code",
        "colab": {},
        "outputId": "974d407a-a986-4e27-9016-1f2110c5deaa"
      },
      "source": [
        "#A common use of variable unpacking is iterating over sequences of tuples or lists:\n",
        "seq = [(1, 2, 3), (4, 5, 6), (7, 8, 9)]\n",
        "for a, b, c in seq:\n",
        "    print('a={0}, b={1}, c={2}'.format(a, b, c))"
      ],
      "execution_count": 0,
      "outputs": [
        {
          "output_type": "stream",
          "text": [
            "a=1, b=2, c=3\n",
            "a=4, b=5, c=6\n",
            "a=7, b=8, c=9\n"
          ],
          "name": "stdout"
        }
      ]
    },
    {
      "cell_type": "code",
      "metadata": {
        "deletable": true,
        "editable": true,
        "id": "XW5WPoK85Dlv",
        "colab_type": "code",
        "colab": {},
        "outputId": "12d85f90-7838-4464-ef6b-d4c8f4b50179"
      },
      "source": [
        "values = 1, 2, 3, 4, 5\n",
        "a,*rest,b = values # beware * wild char\n",
        "a, b\n",
        "(rest)"
      ],
      "execution_count": 0,
      "outputs": [
        {
          "output_type": "execute_result",
          "data": {
            "text/plain": [
              "[2, 3, 4]"
            ]
          },
          "metadata": {
            "tags": []
          },
          "execution_count": 12
        }
      ]
    },
    {
      "cell_type": "code",
      "metadata": {
        "deletable": true,
        "editable": true,
        "id": "jt0t1DCs5Dl6",
        "colab_type": "code",
        "colab": {}
      },
      "source": [
        "#traditionally _ is used for unwanted variables\n",
        "a, b, *_ = values"
      ],
      "execution_count": 0,
      "outputs": []
    },
    {
      "cell_type": "markdown",
      "metadata": {
        "deletable": true,
        "editable": true,
        "id": "wtn1znC45DmB",
        "colab_type": "text"
      },
      "source": [
        "#### Tuple methods"
      ]
    },
    {
      "cell_type": "code",
      "metadata": {
        "deletable": true,
        "editable": true,
        "id": "Qrc0LErO5DmE",
        "colab_type": "code",
        "colab": {},
        "outputId": "3113475c-00b7-49f1-b4c1-ec96ee859eac"
      },
      "source": [
        "a = (1, 2, 2, 2, 3, 4, 2)\n",
        "a.count(2)"
      ],
      "execution_count": 0,
      "outputs": [
        {
          "output_type": "execute_result",
          "data": {
            "text/plain": [
              "4"
            ]
          },
          "metadata": {
            "tags": []
          },
          "execution_count": 13
        }
      ]
    },
    {
      "cell_type": "markdown",
      "metadata": {
        "deletable": true,
        "editable": true,
        "id": "lB6ALvGY5DmN",
        "colab_type": "text"
      },
      "source": [
        "### List"
      ]
    },
    {
      "cell_type": "markdown",
      "metadata": {
        "id": "d0i8Ka2w5DmR",
        "colab_type": "text"
      },
      "source": [
        "In contrast with tuples, lists are variable-length and their contents can be modified in-place. You can define them using square brackets [] or using the list type funtion:"
      ]
    },
    {
      "cell_type": "code",
      "metadata": {
        "deletable": true,
        "editable": true,
        "id": "LlylWEq45DmU",
        "colab_type": "code",
        "colab": {}
      },
      "source": [
        "a_list = [2, 3, 7, None]\n",
        "tup = ('foo', 'bar', 'baz')\n",
        "b_list = list(tup)"
      ],
      "execution_count": 0,
      "outputs": []
    },
    {
      "cell_type": "code",
      "metadata": {
        "deletable": true,
        "editable": true,
        "id": "MjlqDwGq5Dma",
        "colab_type": "code",
        "colab": {},
        "outputId": "01afd185-725b-4c1c-b54d-d4840c757f41"
      },
      "source": [
        "b_list"
      ],
      "execution_count": 0,
      "outputs": [
        {
          "output_type": "execute_result",
          "data": {
            "text/plain": [
              "['foo', 'bar', 'baz']"
            ]
          },
          "metadata": {
            "tags": []
          },
          "execution_count": 15
        }
      ]
    },
    {
      "cell_type": "code",
      "metadata": {
        "deletable": true,
        "editable": true,
        "id": "3OH8MWF35Dmk",
        "colab_type": "code",
        "colab": {},
        "outputId": "151a86c3-429f-40b3-f317-5aaac8f82d5e"
      },
      "source": [
        "b_list[1] = 'peekaboo'\n",
        "b_list"
      ],
      "execution_count": 0,
      "outputs": [
        {
          "output_type": "execute_result",
          "data": {
            "text/plain": [
              "['foo', 'peekaboo', 'baz']"
            ]
          },
          "metadata": {
            "tags": []
          },
          "execution_count": 16
        }
      ]
    },
    {
      "cell_type": "code",
      "metadata": {
        "deletable": true,
        "editable": true,
        "id": "Xnt8cnQs5Dmp",
        "colab_type": "code",
        "colab": {}
      },
      "source": [
        "#The list function is frequently used in data processing as a way to materialize an iterator!\n",
        "#or generator! expression:\n",
        "\n",
        "gen = range(10)\n",
        "gen\n",
        "list(gen)\n"
      ],
      "execution_count": 0,
      "outputs": []
    },
    {
      "cell_type": "markdown",
      "metadata": {
        "deletable": true,
        "editable": true,
        "id": "bsLJJGXi5Dmu",
        "colab_type": "text"
      },
      "source": [
        "#### Adding and removing elements"
      ]
    },
    {
      "cell_type": "code",
      "metadata": {
        "deletable": true,
        "editable": true,
        "id": "RVnfpdiw5Dmw",
        "colab_type": "code",
        "colab": {},
        "outputId": "a5ac929e-3c0f-4881-c101-7aa60c8acbce"
      },
      "source": [
        "b_list.append('dwarf')\n",
        "b_list"
      ],
      "execution_count": 0,
      "outputs": [
        {
          "output_type": "execute_result",
          "data": {
            "text/plain": [
              "['foo', 'peekaboo', 'baz', 'dwarf']"
            ]
          },
          "metadata": {
            "tags": []
          },
          "execution_count": 17
        }
      ]
    },
    {
      "cell_type": "code",
      "metadata": {
        "deletable": true,
        "editable": true,
        "id": "0z7Cjy8-5Dm3",
        "colab_type": "code",
        "colab": {},
        "outputId": "a9421969-b5de-47db-8676-3384812c9bfa"
      },
      "source": [
        "b_list.insert(1, 'red')\n",
        "b_list"
      ],
      "execution_count": 0,
      "outputs": [
        {
          "output_type": "execute_result",
          "data": {
            "text/plain": [
              "['foo', 'red', 'peekaboo', 'baz', 'dwarf']"
            ]
          },
          "metadata": {
            "tags": []
          },
          "execution_count": 18
        }
      ]
    },
    {
      "cell_type": "code",
      "metadata": {
        "deletable": true,
        "editable": true,
        "id": "clY-TLHq5Dm8",
        "colab_type": "code",
        "colab": {},
        "outputId": "c4b124ec-4a65-47a1-d1f3-4bc8539a0267"
      },
      "source": [
        "b_list.pop(2)"
      ],
      "execution_count": 0,
      "outputs": [
        {
          "output_type": "execute_result",
          "data": {
            "text/plain": [
              "'peekaboo'"
            ]
          },
          "metadata": {
            "tags": []
          },
          "execution_count": 19
        }
      ]
    },
    {
      "cell_type": "code",
      "metadata": {
        "deletable": true,
        "editable": true,
        "id": "Ga6LLFpy5DnD",
        "colab_type": "code",
        "colab": {},
        "outputId": "8ac29c7e-363b-4726-de4f-12ca4aec43b7"
      },
      "source": [
        "b_list"
      ],
      "execution_count": 0,
      "outputs": [
        {
          "output_type": "execute_result",
          "data": {
            "text/plain": [
              "['foo', 'red', 'baz', 'dwarf']"
            ]
          },
          "metadata": {
            "tags": []
          },
          "execution_count": 20
        }
      ]
    },
    {
      "cell_type": "code",
      "metadata": {
        "deletable": true,
        "editable": true,
        "id": "QyNLEPdO5DnK",
        "colab_type": "code",
        "colab": {},
        "outputId": "37bdda67-a95a-40fc-af21-d7755cd2aae6"
      },
      "source": [
        "b_list.append('foo')\n",
        "b_list"
      ],
      "execution_count": 0,
      "outputs": [
        {
          "output_type": "execute_result",
          "data": {
            "text/plain": [
              "['foo', 'red', 'baz', 'dwarf', 'foo']"
            ]
          },
          "metadata": {
            "tags": []
          },
          "execution_count": 21
        }
      ]
    },
    {
      "cell_type": "code",
      "metadata": {
        "deletable": true,
        "editable": true,
        "id": "8EJtWD8w5DnO",
        "colab_type": "code",
        "colab": {},
        "outputId": "5eca4448-08e1-4b13-a6c7-440f1bcca9a4"
      },
      "source": [
        "b_list.remove('foo')\n",
        "b_list"
      ],
      "execution_count": 0,
      "outputs": [
        {
          "output_type": "execute_result",
          "data": {
            "text/plain": [
              "['red', 'baz', 'dwarf', 'foo']"
            ]
          },
          "metadata": {
            "tags": []
          },
          "execution_count": 22
        }
      ]
    },
    {
      "cell_type": "code",
      "metadata": {
        "deletable": true,
        "editable": true,
        "id": "9yUcTU6C5DnV",
        "colab_type": "code",
        "colab": {},
        "outputId": "8d2035e6-ebb0-4ab9-dde9-5b523a826296"
      },
      "source": [
        "'dwarf' in b_list"
      ],
      "execution_count": 0,
      "outputs": [
        {
          "output_type": "execute_result",
          "data": {
            "text/plain": [
              "True"
            ]
          },
          "metadata": {
            "tags": []
          },
          "execution_count": 23
        }
      ]
    },
    {
      "cell_type": "code",
      "metadata": {
        "deletable": true,
        "editable": true,
        "id": "Gvvv0BlG5Dnb",
        "colab_type": "code",
        "colab": {},
        "outputId": "3cc7fb12-56f9-4508-c903-5b396196da6a"
      },
      "source": [
        "'dwarf' not in b_list"
      ],
      "execution_count": 0,
      "outputs": [
        {
          "output_type": "execute_result",
          "data": {
            "text/plain": [
              "False"
            ]
          },
          "metadata": {
            "tags": []
          },
          "execution_count": 24
        }
      ]
    },
    {
      "cell_type": "markdown",
      "metadata": {
        "id": "w6oC5tWN5Dni",
        "colab_type": "text"
      },
      "source": [
        "Checking whether a list contains a value is a lot slower than doing so with dicts and sets .\n"
      ]
    },
    {
      "cell_type": "markdown",
      "metadata": {
        "deletable": true,
        "editable": true,
        "id": "S28fna-p5Dnj",
        "colab_type": "text"
      },
      "source": [
        "#### Concatenating and combining lists"
      ]
    },
    {
      "cell_type": "code",
      "metadata": {
        "deletable": true,
        "editable": true,
        "id": "KXZ9Eg_z5Dnl",
        "colab_type": "code",
        "colab": {}
      },
      "source": [
        "[4, None, 'foo'] + [7, 8, (2, 3)]"
      ],
      "execution_count": 0,
      "outputs": []
    },
    {
      "cell_type": "code",
      "metadata": {
        "deletable": true,
        "editable": true,
        "id": "XuKN5qeR5Dnr",
        "colab_type": "code",
        "colab": {}
      },
      "source": [
        "x = [4, None, 'foo']\n",
        "x.extend([7, 8, (2, 3)])\n",
        "x"
      ],
      "execution_count": 0,
      "outputs": []
    },
    {
      "cell_type": "code",
      "metadata": {
        "deletable": true,
        "editable": true,
        "id": "2nY0HjuA5Dnw",
        "colab_type": "code",
        "colab": {}
      },
      "source": [
        "everything = []\n",
        "for chunk in list_of_lists:\n",
        "    everything.extend(chunk)"
      ],
      "execution_count": 0,
      "outputs": []
    },
    {
      "cell_type": "markdown",
      "metadata": {
        "id": "IhCLxX_G5Dn0",
        "colab_type": "text"
      },
      "source": [
        "<i>is faster than <i>"
      ]
    },
    {
      "cell_type": "code",
      "metadata": {
        "deletable": true,
        "editable": true,
        "id": "PH67gkXl5Dn2",
        "colab_type": "code",
        "colab": {}
      },
      "source": [
        "everything = []\n",
        "for chunk in list_of_lists:\n",
        "    everything = everything + chunk"
      ],
      "execution_count": 0,
      "outputs": []
    },
    {
      "cell_type": "markdown",
      "metadata": {
        "deletable": true,
        "editable": true,
        "id": "sd_gYMx75Dn7",
        "colab_type": "text"
      },
      "source": [
        "#### Sorting"
      ]
    },
    {
      "cell_type": "code",
      "metadata": {
        "deletable": true,
        "editable": true,
        "id": "t3lzRyK25Dn8",
        "colab_type": "code",
        "colab": {}
      },
      "source": [
        "a = [7, 2, 5, 1, 3]\n",
        "a.sort()\n",
        "a"
      ],
      "execution_count": 0,
      "outputs": []
    },
    {
      "cell_type": "code",
      "metadata": {
        "deletable": true,
        "editable": true,
        "id": "muumuH2F5DoE",
        "colab_type": "code",
        "colab": {}
      },
      "source": [
        "b = ['saw', 'small', 'He', 'foxes', 'six']\n",
        "b.sort(key=len)\n",
        "b"
      ],
      "execution_count": 0,
      "outputs": []
    },
    {
      "cell_type": "markdown",
      "metadata": {
        "deletable": true,
        "editable": true,
        "id": "rXSBM-6o5DoM",
        "colab_type": "text"
      },
      "source": [
        "#### Binary search and maintaining a sorted list"
      ]
    },
    {
      "cell_type": "code",
      "metadata": {
        "deletable": true,
        "editable": true,
        "id": "KqtgYVV85DoO",
        "colab_type": "code",
        "colab": {
          "base_uri": "https://localhost:8080/",
          "height": 34
        },
        "outputId": "0ac991d0-c5cf-40b7-d039-f8d5e6972dc6"
      },
      "source": [
        "import bisect\n",
        "c = [1, 2, 2, 2, 3, 4, 7]\n",
        "bisect.bisect(c, 2)\n",
        "bisect.bisect(c, 5)\n",
        "bisect.insort(c, 6)\n",
        "c"
      ],
      "execution_count": 1,
      "outputs": [
        {
          "output_type": "execute_result",
          "data": {
            "text/plain": [
              "[1, 2, 2, 2, 3, 4, 6, 7]"
            ]
          },
          "metadata": {
            "tags": []
          },
          "execution_count": 1
        }
      ]
    },
    {
      "cell_type": "markdown",
      "metadata": {
        "deletable": true,
        "editable": true,
        "id": "L19krQ2J5DoV",
        "colab_type": "text"
      },
      "source": [
        "#### Slicing"
      ]
    },
    {
      "cell_type": "code",
      "metadata": {
        "deletable": true,
        "editable": true,
        "id": "1og2m8nG5DoX",
        "colab_type": "code",
        "colab": {}
      },
      "source": [
        "seq = [7, 2, 3, 7, 5, 6, 0, 1]\n",
        "seq[1:5]"
      ],
      "execution_count": 0,
      "outputs": []
    },
    {
      "cell_type": "code",
      "metadata": {
        "id": "CnfiV_Ph5Doe",
        "colab_type": "code",
        "colab": {}
      },
      "source": [
        "seq[3:4]"
      ],
      "execution_count": 0,
      "outputs": []
    },
    {
      "cell_type": "code",
      "metadata": {
        "deletable": true,
        "editable": true,
        "id": "g9I4ULlV5Dok",
        "colab_type": "code",
        "colab": {}
      },
      "source": [
        "#Slices can also be assigned to with a sequence:\n",
        "seq[3:4] = [6, 3]\n",
        "seq"
      ],
      "execution_count": 0,
      "outputs": []
    },
    {
      "cell_type": "markdown",
      "metadata": {
        "id": "1Jzi4X_R5Dop",
        "colab_type": "text"
      },
      "source": [
        "While the element at the start index is included, the stop index is not included, so\n",
        "that the number of elements in the result is stop - start."
      ]
    },
    {
      "cell_type": "code",
      "metadata": {
        "deletable": true,
        "editable": true,
        "id": "omHB_nZN5Dor",
        "colab_type": "code",
        "colab": {}
      },
      "source": [
        "seq[:5]\n",
        "seq[3:]"
      ],
      "execution_count": 0,
      "outputs": []
    },
    {
      "cell_type": "code",
      "metadata": {
        "deletable": true,
        "editable": true,
        "id": "9NmusvVj5Dov",
        "colab_type": "code",
        "colab": {}
      },
      "source": [
        "#Negative indices slice the sequence relative to the end:\n",
        "\n",
        "seq[-4:]"
      ],
      "execution_count": 0,
      "outputs": []
    },
    {
      "cell_type": "code",
      "metadata": {
        "deletable": true,
        "editable": true,
        "id": "I1XxQ2a85Do2",
        "colab_type": "code",
        "colab": {}
      },
      "source": [
        "seq[-6:-2]"
      ],
      "execution_count": 0,
      "outputs": []
    },
    {
      "cell_type": "markdown",
      "metadata": {
        "id": "lVpjVOon5Do-",
        "colab_type": "text"
      },
      "source": [
        "   see page 59"
      ]
    },
    {
      "cell_type": "code",
      "metadata": {
        "deletable": true,
        "editable": true,
        "id": "phsex6c25DpA",
        "colab_type": "code",
        "colab": {}
      },
      "source": [
        "#A step can also be used after a second colon to, say, take every other element:\n",
        "seq[::2]"
      ],
      "execution_count": 0,
      "outputs": []
    },
    {
      "cell_type": "code",
      "metadata": {
        "deletable": true,
        "editable": true,
        "id": "fgutVitT5DpG",
        "colab_type": "code",
        "colab": {}
      },
      "source": [
        "#reverse alistor tuple\n",
        "seq[::-1]"
      ],
      "execution_count": 0,
      "outputs": []
    },
    {
      "cell_type": "markdown",
      "metadata": {
        "deletable": true,
        "editable": true,
        "id": "MSEfou2i5DpM",
        "colab_type": "text"
      },
      "source": [
        "### Built-in Sequence Functions"
      ]
    },
    {
      "cell_type": "markdown",
      "metadata": {
        "deletable": true,
        "editable": true,
        "id": "TwdLW6lY5DpO",
        "colab_type": "text"
      },
      "source": [
        "#### enumerate"
      ]
    },
    {
      "cell_type": "code",
      "metadata": {
        "deletable": true,
        "editable": true,
        "id": "sNqyKRjo5DpQ",
        "colab_type": "code",
        "colab": {}
      },
      "source": [
        "# enumerate returns asequence of (i, value) tuples:\n",
        "for i, value in enumerate(collection):\n",
        "   # do something with value"
      ],
      "execution_count": 0,
      "outputs": []
    },
    {
      "cell_type": "markdown",
      "metadata": {
        "id": "kW3svxdh5DpW",
        "colab_type": "text"
      },
      "source": [
        "When you are indexing data, a helpful pattern that uses enumerate is computing a dict mapping the values of a sequence (which are assumed to be unique) to their locations in the sequence:"
      ]
    },
    {
      "cell_type": "code",
      "metadata": {
        "deletable": true,
        "editable": true,
        "id": "nYkO5Lvx5DpY",
        "colab_type": "code",
        "colab": {}
      },
      "source": [
        "some_list = ['foo', 'bar', 'baz']\n",
        "mapping = {}\n",
        "type(mapping)"
      ],
      "execution_count": 0,
      "outputs": []
    },
    {
      "cell_type": "code",
      "metadata": {
        "id": "5k25Wee95Dpg",
        "colab_type": "code",
        "colab": {}
      },
      "source": [
        "for i, v in enumerate(some_list):\n",
        "    print(i,v)"
      ],
      "execution_count": 0,
      "outputs": []
    },
    {
      "cell_type": "code",
      "metadata": {
        "deletable": true,
        "editable": true,
        "id": "rAcOPMb-5Dpn",
        "colab_type": "code",
        "colab": {}
      },
      "source": [
        "for i, v in enumerate(some_list):\n",
        "    mapping[v] = i\n",
        "mapping"
      ],
      "execution_count": 0,
      "outputs": []
    },
    {
      "cell_type": "markdown",
      "metadata": {
        "deletable": true,
        "editable": true,
        "id": "5EmDUK4e5Dpt",
        "colab_type": "text"
      },
      "source": [
        "#### sorted"
      ]
    },
    {
      "cell_type": "markdown",
      "metadata": {
        "id": "LBp-WbwX5Dpv",
        "colab_type": "text"
      },
      "source": [
        "The sorted function returns a new sorted list from the elements of any sequence:\n"
      ]
    },
    {
      "cell_type": "code",
      "metadata": {
        "deletable": true,
        "editable": true,
        "id": "DUrJfGYN5Dpy",
        "colab_type": "code",
        "colab": {}
      },
      "source": [
        "sorted([7, 1, 2, 6, 0, 3, 2])\n",
        "sorted('horse race')"
      ],
      "execution_count": 0,
      "outputs": []
    },
    {
      "cell_type": "markdown",
      "metadata": {
        "deletable": true,
        "editable": true,
        "id": "b2iChx_85Dp8",
        "colab_type": "text"
      },
      "source": [
        "#### zip"
      ]
    },
    {
      "cell_type": "markdown",
      "metadata": {
        "id": "5kpcOADt5Dp9",
        "colab_type": "text"
      },
      "source": [
        "zip “pairs” up the elements of a number of lists, tuples, or other sequences to create a list of tuples:"
      ]
    },
    {
      "cell_type": "code",
      "metadata": {
        "deletable": true,
        "editable": true,
        "id": "5J00iwdL5Dp-",
        "colab_type": "code",
        "colab": {}
      },
      "source": [
        "seq1 = ['foo', 'bar', 'baz']\n",
        "seq2 = ['one', 'two', 'three']\n",
        "zipped = zip(seq1, seq2)"
      ],
      "execution_count": 0,
      "outputs": []
    },
    {
      "cell_type": "code",
      "metadata": {
        "deletable": true,
        "editable": true,
        "id": "z41H5IOY5DqC",
        "colab_type": "code",
        "colab": {}
      },
      "source": [
        "list(zipped)"
      ],
      "execution_count": 0,
      "outputs": []
    },
    {
      "cell_type": "code",
      "metadata": {
        "deletable": true,
        "editable": true,
        "id": "IqkLSfvm5DqG",
        "colab_type": "code",
        "colab": {}
      },
      "source": [
        "seq3 = [False, True]\n",
        "list(zip(seq1, seq2, seq3))"
      ],
      "execution_count": 0,
      "outputs": []
    },
    {
      "cell_type": "markdown",
      "metadata": {
        "id": "4vw-Y1bB5DqL",
        "colab_type": "text"
      },
      "source": [
        "A very common use of zip is simultaneously iterating over multiple sequences, possi‐\n",
        "bly also combined with enumerate:"
      ]
    },
    {
      "cell_type": "code",
      "metadata": {
        "deletable": true,
        "editable": true,
        "id": "XhYXDMgh5DqM",
        "colab_type": "code",
        "colab": {}
      },
      "source": [
        "for i, (a, b) in enumerate(zip(seq1, seq2)):\n",
        "    print('{0}: {1}, {2}'.format(i, a, b))"
      ],
      "execution_count": 0,
      "outputs": []
    },
    {
      "cell_type": "markdown",
      "metadata": {
        "id": "sdFd_lJ45Dqi",
        "colab_type": "text"
      },
      "source": [
        "Given a “zipped” sequence, zip can be applied in a clever way to “unzip” the sequence. Another way to think about this is converting a list of rows into a list of columns. The syntax, which looks a bit magical, is:"
      ]
    },
    {
      "cell_type": "code",
      "metadata": {
        "deletable": true,
        "editable": true,
        "id": "upQSmZvm5Dqk",
        "colab_type": "code",
        "colab": {}
      },
      "source": [
        "pitchers = [('Nolan', 'Ryan'), ('Roger', 'Clemens'),\n",
        "            ('Schilling', 'Curt')]\n",
        "first_names, last_names = zip(*pitchers)\n",
        "first_names\n",
        "last_names"
      ],
      "execution_count": 0,
      "outputs": []
    },
    {
      "cell_type": "markdown",
      "metadata": {
        "deletable": true,
        "editable": true,
        "id": "XZkOvwKJ5Dqo",
        "colab_type": "text"
      },
      "source": [
        "#### reversed"
      ]
    },
    {
      "cell_type": "markdown",
      "metadata": {
        "id": "crwlMwG-5Dqp",
        "colab_type": "text"
      },
      "source": [
        " reversed is a <b>generator</b> , so it does not create the reversed sequence until materialized"
      ]
    },
    {
      "cell_type": "code",
      "metadata": {
        "deletable": true,
        "editable": true,
        "id": "DDIEBSlG5Dqr",
        "colab_type": "code",
        "colab": {}
      },
      "source": [
        "list(reversed(range(10)))"
      ],
      "execution_count": 0,
      "outputs": []
    },
    {
      "cell_type": "markdown",
      "metadata": {
        "deletable": true,
        "editable": true,
        "id": "0AALUcU45Dqv",
        "colab_type": "text"
      },
      "source": [
        "### dict (aka hash map or associative array)"
      ]
    },
    {
      "cell_type": "markdown",
      "metadata": {
        "id": "D1dzGiW75Dqx",
        "colab_type": "text"
      },
      "source": [
        "dict is a flexibly sized collection of key-value pairs, where key and value are Python objects. One approach for creating one is to use curly braces {} and colons to separate keys and values:"
      ]
    },
    {
      "cell_type": "code",
      "metadata": {
        "deletable": true,
        "editable": true,
        "id": "m9kSAwbF5Dqy",
        "colab_type": "code",
        "colab": {}
      },
      "source": [
        "empty_dict = {}\n",
        "d1 = {'a' : 'some value', 'b' : [1, 2, 3, 4]}\n",
        "d1"
      ],
      "execution_count": 0,
      "outputs": []
    },
    {
      "cell_type": "code",
      "metadata": {
        "deletable": true,
        "editable": true,
        "id": "hVla8Bhm5Dq2",
        "colab_type": "code",
        "colab": {}
      },
      "source": [
        "#You can access, insert, or set elements using the same syntax as for accessing elements of a list :\n",
        "d1[7] = 'an integer'\n",
        "d1\n",
        "d1[7]"
      ],
      "execution_count": 0,
      "outputs": []
    },
    {
      "cell_type": "code",
      "metadata": {
        "deletable": true,
        "editable": true,
        "id": "kklRqO1U5Dq6",
        "colab_type": "code",
        "colab": {}
      },
      "source": [
        "#You can check if a dict contains a !key!  with in keyword\n",
        "'b' in d1"
      ],
      "execution_count": 0,
      "outputs": []
    },
    {
      "cell_type": "code",
      "metadata": {
        "deletable": true,
        "editable": true,
        "id": "iSAOsNUA5DrC",
        "colab_type": "code",
        "colab": {}
      },
      "source": [
        "d1[5] = 'some value'\n",
        "d1\n",
        "d1['dummy'] = 'another value'\n",
        "d1"
      ],
      "execution_count": 0,
      "outputs": []
    },
    {
      "cell_type": "code",
      "metadata": {
        "deletable": true,
        "editable": true,
        "id": "tSJ2ZEOh5DrG",
        "colab_type": "code",
        "colab": {}
      },
      "source": [
        "#You can delete values either using the del keyword \n",
        "#or the pop method (which simul‐ taneously returns the value and deletes the key):\n",
        "del d1[5]\n",
        "d1\n",
        "ret = d1.pop('dummy')\n",
        "ret"
      ],
      "execution_count": 0,
      "outputs": []
    },
    {
      "cell_type": "code",
      "metadata": {
        "deletable": true,
        "editable": true,
        "id": "JunQK3iF5DrM",
        "colab_type": "code",
        "colab": {}
      },
      "source": [
        "d1"
      ],
      "execution_count": 0,
      "outputs": []
    },
    {
      "cell_type": "code",
      "metadata": {
        "deletable": true,
        "editable": true,
        "id": "5yw9KogR5DrR",
        "colab_type": "code",
        "colab": {}
      },
      "source": [
        "list(d1.keys())\n",
        "list(d1.values())"
      ],
      "execution_count": 0,
      "outputs": []
    },
    {
      "cell_type": "code",
      "metadata": {
        "id": "fd77DNMn5DrU",
        "colab_type": "code",
        "colab": {}
      },
      "source": [
        "d1"
      ],
      "execution_count": 0,
      "outputs": []
    },
    {
      "cell_type": "code",
      "metadata": {
        "deletable": true,
        "editable": true,
        "id": "IaPl8vwO5DrX",
        "colab_type": "code",
        "colab": {}
      },
      "source": [
        "#You can merge one dict into another using \n",
        "d1.update({'b' : 'foo', 'c' : 12})\n",
        "d1"
      ],
      "execution_count": 0,
      "outputs": []
    },
    {
      "cell_type": "markdown",
      "metadata": {
        "deletable": true,
        "editable": true,
        "id": "YfimQbc25Drb",
        "colab_type": "text"
      },
      "source": [
        "#### Creating dicts from sequences"
      ]
    },
    {
      "cell_type": "code",
      "metadata": {
        "deletable": true,
        "editable": true,
        "id": "RwijUnG05Drd",
        "colab_type": "code",
        "colab": {}
      },
      "source": [
        "mapping = {}\n",
        "mapping[\"yeni\"]=2\n",
        "mapping"
      ],
      "execution_count": 0,
      "outputs": []
    },
    {
      "cell_type": "code",
      "metadata": {
        "deletable": true,
        "editable": true,
        "id": "_HKvmbVV5Drl",
        "colab_type": "code",
        "colab": {}
      },
      "source": [
        "for key, value in zip(key_list, value_list):\n",
        "    mapping[key] = value"
      ],
      "execution_count": 0,
      "outputs": []
    },
    {
      "cell_type": "code",
      "metadata": {
        "deletable": true,
        "editable": true,
        "id": "c_Z4iODl5Drq",
        "colab_type": "code",
        "colab": {}
      },
      "source": [
        "#Since a dict is essentially a collection of 2-tuples, the dict function accepts a list of 2-tuples:\n",
        "mapping = dict(zip(range(5), reversed(range(5))))\n",
        "mapping\n",
        "ls=[1,2]\n",
        "ls2=[\"a\",\"b\"]\n",
        "dict(zip(ls,ls2))"
      ],
      "execution_count": 0,
      "outputs": []
    },
    {
      "cell_type": "markdown",
      "metadata": {
        "deletable": true,
        "editable": true,
        "id": "h1fe-A-q5Drv",
        "colab_type": "text"
      },
      "source": [
        "#### Default values"
      ]
    },
    {
      "cell_type": "code",
      "metadata": {
        "deletable": true,
        "editable": true,
        "id": "vAo_3H0r5Dry",
        "colab_type": "code",
        "colab": {}
      },
      "source": [
        "#this is equivalent\n",
        "if key in some_dict:\n",
        "    value = some_dict[key]\n",
        "else:\n",
        "    value = default_value"
      ],
      "execution_count": 0,
      "outputs": []
    },
    {
      "cell_type": "code",
      "metadata": {
        "deletable": true,
        "editable": true,
        "id": "tFGgizPF5Dr1",
        "colab_type": "code",
        "colab": {}
      },
      "source": [
        "#to this\n",
        "value = some_dict.get(key, default_value)"
      ],
      "execution_count": 0,
      "outputs": []
    },
    {
      "cell_type": "code",
      "metadata": {
        "deletable": true,
        "editable": true,
        "id": "u_bHY3525Dr5",
        "colab_type": "code",
        "colab": {},
        "outputId": "216c9f88-f076-4475-afd6-007ef86704de"
      },
      "source": [
        "words = ['apple', 'bat', 'bar', 'atom', 'book']\n",
        "by_letter = {}\n",
        "for word in words:\n",
        "    letter = word[0]\n",
        "    if letter not in by_letter:\n",
        "        by_letter[letter] = [word]\n",
        "    else:\n",
        "        by_letter[letter].append(word)\n",
        "by_letter\n"
      ],
      "execution_count": 0,
      "outputs": [
        {
          "output_type": "execute_result",
          "data": {
            "text/plain": [
              "{'a': ['apple', 'atom'], 'b': ['bat', 'bar', 'book']}"
            ]
          },
          "metadata": {
            "tags": []
          },
          "execution_count": 9
        }
      ]
    },
    {
      "cell_type": "code",
      "metadata": {
        "deletable": true,
        "editable": true,
        "id": "OyaFZ1cH5Dr9",
        "colab_type": "code",
        "colab": {}
      },
      "source": [
        "for word in words:\n",
        "    letter = word[0]\n",
        "    by_letter.setdefault(letter, []).append(word)\n",
        "by_letter    "
      ],
      "execution_count": 0,
      "outputs": []
    },
    {
      "cell_type": "markdown",
      "metadata": {
        "id": "cSxCfWUH5DsA",
        "colab_type": "text"
      },
      "source": [
        "\n"
      ]
    },
    {
      "cell_type": "code",
      "metadata": {
        "deletable": true,
        "editable": true,
        "id": "IEFRG0bc5DsB",
        "colab_type": "code",
        "colab": {}
      },
      "source": [
        "\n",
        "for word in words:\n",
        "    letter = word[0]\n",
        "    by_letter.setdefault(letter, []).append(word)"
      ],
      "execution_count": 0,
      "outputs": []
    },
    {
      "cell_type": "markdown",
      "metadata": {
        "deletable": true,
        "editable": true,
        "id": "-MBth2QW5DsF",
        "colab_type": "text"
      },
      "source": [
        "The built-in collections module has a useful class, defaultdict, which makes this even easier. To create one, you pass a type or function for generating the default value for each slot in the dict:"
      ]
    },
    {
      "cell_type": "code",
      "metadata": {
        "deletable": true,
        "editable": true,
        "id": "OjJtSVt55DsH",
        "colab_type": "code",
        "colab": {}
      },
      "source": [
        "from collections import defaultdict\n",
        "by_letter = defaultdict(list)\n",
        "for word in words:\n",
        "    by_letter[word[0]].append(word)\n",
        "by_letter\n",
        "    "
      ],
      "execution_count": 0,
      "outputs": []
    },
    {
      "cell_type": "markdown",
      "metadata": {
        "deletable": true,
        "editable": true,
        "id": "xduCMH2K5DsO",
        "colab_type": "text"
      },
      "source": [
        "#### Valid dict key types"
      ]
    },
    {
      "cell_type": "markdown",
      "metadata": {
        "id": "BwGLIo6H5DsQ",
        "colab_type": "text"
      },
      "source": [
        "While the values of a dict can be any Python object, the keys generally have to be immutable objects like scalar types (int, float, string) or tuples (all the objects in the tuple need to be immutable, too). The technical term here is hashability. You can check whether an object is hashable (can be used as a key in a dict) with the hash function:"
      ]
    },
    {
      "cell_type": "markdown",
      "metadata": {
        "id": "Tmj96Z_K5DsQ",
        "colab_type": "text"
      },
      "source": [
        "To use a list as a key, one option is to convert it to a tuple, which can be hashed as long as its elements also can:\n"
      ]
    },
    {
      "cell_type": "code",
      "metadata": {
        "deletable": true,
        "editable": true,
        "id": "76w5mXaO5DsT",
        "colab_type": "code",
        "colab": {}
      },
      "source": [
        "d = {}\n",
        "d[tuple([1, 2, 3])] = 5\n",
        "d"
      ],
      "execution_count": 0,
      "outputs": []
    },
    {
      "cell_type": "markdown",
      "metadata": {
        "deletable": true,
        "editable": true,
        "id": "VMqZIMoY5DsW",
        "colab_type": "text"
      },
      "source": [
        "### set"
      ]
    },
    {
      "cell_type": "markdown",
      "metadata": {
        "id": "j2zevF7F5DsZ",
        "colab_type": "text"
      },
      "source": [
        "A set is an unordered collection of unique elements.  A set can be created in two ways: via the set function or via a set literal with curly braces:"
      ]
    },
    {
      "cell_type": "code",
      "metadata": {
        "deletable": true,
        "editable": true,
        "id": "dnpe10td5Dsc",
        "colab_type": "code",
        "colab": {}
      },
      "source": [
        "set([2, 2, 2, 1, 3, 3])\n",
        "{2, 2, 2, 1, 3, 3}"
      ],
      "execution_count": 0,
      "outputs": []
    },
    {
      "cell_type": "code",
      "metadata": {
        "id": "RbLMkYTM5Dsi",
        "colab_type": "code",
        "colab": {}
      },
      "source": [
        ""
      ],
      "execution_count": 0,
      "outputs": []
    },
    {
      "cell_type": "code",
      "metadata": {
        "deletable": true,
        "editable": true,
        "id": "Ig94EPCI5Dsl",
        "colab_type": "code",
        "colab": {}
      },
      "source": [
        "a = {1, 2, 3, 4, 5}\n",
        "b = {3, 4, 5, 6, 7, 8}"
      ],
      "execution_count": 0,
      "outputs": []
    },
    {
      "cell_type": "markdown",
      "metadata": {
        "id": "xXpi6jyO5Dsp",
        "colab_type": "text"
      },
      "source": [
        "Sets support mathematical set operations like union, intersection, difference, and symmetric difference."
      ]
    },
    {
      "cell_type": "code",
      "metadata": {
        "deletable": true,
        "editable": true,
        "id": "Zy65Swbh5Dsq",
        "colab_type": "code",
        "colab": {}
      },
      "source": [
        "a.union(b)\n",
        "a | b"
      ],
      "execution_count": 0,
      "outputs": []
    },
    {
      "cell_type": "code",
      "metadata": {
        "deletable": true,
        "editable": true,
        "id": "NF0ElLEK5Dst",
        "colab_type": "code",
        "colab": {}
      },
      "source": [
        "a.intersection(b)\n",
        "a & b\n",
        "a"
      ],
      "execution_count": 0,
      "outputs": []
    },
    {
      "cell_type": "markdown",
      "metadata": {
        "id": "JiHaW3dd5Dsw",
        "colab_type": "text"
      },
      "source": [
        "All of the logical set operations have <b>in-place</b> counterparts, which enable you to replace the contents of the set on the left side of the operation with the result. For very large sets, this may be more efficient:\n"
      ]
    },
    {
      "cell_type": "code",
      "metadata": {
        "deletable": true,
        "editable": true,
        "id": "OFvyb_o65Dsx",
        "colab_type": "code",
        "colab": {}
      },
      "source": [
        "c = a.copy()\n",
        "c"
      ],
      "execution_count": 0,
      "outputs": []
    },
    {
      "cell_type": "code",
      "metadata": {
        "deletable": true,
        "editable": true,
        "id": "t1UO2leI5Ds0",
        "colab_type": "code",
        "colab": {}
      },
      "source": [
        "c |= b\n",
        "\n",
        "c"
      ],
      "execution_count": 0,
      "outputs": []
    },
    {
      "cell_type": "code",
      "metadata": {
        "deletable": true,
        "editable": true,
        "id": "_gzczW_L5Ds3",
        "colab_type": "code",
        "colab": {}
      },
      "source": [
        "d = a.copy()\n",
        "d &= b\n",
        "d"
      ],
      "execution_count": 0,
      "outputs": []
    },
    {
      "cell_type": "markdown",
      "metadata": {
        "id": "b-dBEhqd5Ds6",
        "colab_type": "text"
      },
      "source": [
        "Like dicts, set elements generally must be immutable. To have list-like elements, you must convert it to a tuple:"
      ]
    },
    {
      "cell_type": "code",
      "metadata": {
        "deletable": true,
        "editable": true,
        "id": "5i_-Rbn_5Ds7",
        "colab_type": "code",
        "colab": {}
      },
      "source": [
        "my_data = [1, 2, 3, 4]\n",
        "my_set = {tuple(my_data)}\n",
        "my_set"
      ],
      "execution_count": 0,
      "outputs": []
    },
    {
      "cell_type": "code",
      "metadata": {
        "deletable": true,
        "editable": true,
        "id": "xjZOBuba5Ds_",
        "colab_type": "code",
        "colab": {}
      },
      "source": [
        "a_set = {1, 2, 3, 4, 5}\n",
        "{1, 2, 3}.issubset(a_set)\n",
        "a_set.issuperset({1, 2, 3})"
      ],
      "execution_count": 0,
      "outputs": []
    },
    {
      "cell_type": "markdown",
      "metadata": {
        "id": "japNV4XD5DtC",
        "colab_type": "text"
      },
      "source": [
        "Sets are equal if and only if their contents are equal:"
      ]
    },
    {
      "cell_type": "code",
      "metadata": {
        "deletable": true,
        "editable": true,
        "id": "Nx5HjU0k5DtD",
        "colab_type": "code",
        "colab": {}
      },
      "source": [
        "{1, 2, 3} == {3, 2, 1}"
      ],
      "execution_count": 0,
      "outputs": []
    },
    {
      "cell_type": "markdown",
      "metadata": {
        "deletable": true,
        "editable": true,
        "id": "1r0BeVpS5DtI",
        "colab_type": "text"
      },
      "source": [
        "### List, Set, and Dict Comprehensions"
      ]
    },
    {
      "cell_type": "code",
      "metadata": {
        "deletable": true,
        "editable": true,
        "id": "Vle0WQ8L5DtJ",
        "colab_type": "code",
        "colab": {}
      },
      "source": [
        "[expr for val in collection if condition] \n",
        "#This is equivalent to the following for loop:\n",
        "result = []\n",
        "for val in collection:\n",
        "    if condition: result.append(expr)"
      ],
      "execution_count": 0,
      "outputs": []
    },
    {
      "cell_type": "markdown",
      "metadata": {
        "id": "rqpx8T2N5DtM",
        "colab_type": "text"
      },
      "source": [
        "The filter condition can be omitted, leaving only the expression"
      ]
    },
    {
      "cell_type": "code",
      "metadata": {
        "deletable": true,
        "editable": true,
        "id": "WHyuwAmK5DtN",
        "colab_type": "code",
        "colab": {}
      },
      "source": [
        "strings = ['a', 'as', 'bat', 'car', 'dove', 'python']\n",
        "[x.upper() for x in strings if len(x) > 2]"
      ],
      "execution_count": 0,
      "outputs": []
    },
    {
      "cell_type": "markdown",
      "metadata": {
        "deletable": true,
        "editable": true,
        "id": "mboEplCR5DtQ",
        "colab_type": "text"
      },
      "source": [
        "Set and dict comprehensions are a natural extension, producing sets and dicts in an\n",
        "idiomatically similar way instead of lists. A dict comprehension looks like this:<br>\n",
        "<b>dict_comp = {key-expr : value-expr for value in collection if condition}</b>"
      ]
    },
    {
      "cell_type": "markdown",
      "metadata": {
        "deletable": true,
        "editable": true,
        "id": "3scux8lr5DtR",
        "colab_type": "text"
      },
      "source": [
        "sA set comprehension looks like the equivalent list comprehension except with curly braces instead of square brackets:<br>\n",
        "<b>set_comp = {expr for value in collection if condition}</b>"
      ]
    },
    {
      "cell_type": "code",
      "metadata": {
        "deletable": true,
        "editable": true,
        "id": "G5MXbqin5DtS",
        "colab_type": "code",
        "colab": {}
      },
      "source": [
        "unique_lengths = {len(x) for x in strings}\n",
        "unique_lengths"
      ],
      "execution_count": 0,
      "outputs": []
    },
    {
      "cell_type": "code",
      "metadata": {
        "deletable": true,
        "editable": true,
        "id": "YOQYEZYh5DtW",
        "colab_type": "code",
        "colab": {}
      },
      "source": [
        "set(map(len, strings))"
      ],
      "execution_count": 0,
      "outputs": []
    },
    {
      "cell_type": "markdown",
      "metadata": {
        "id": "LySWU_WG5Dtb",
        "colab_type": "text"
      },
      "source": [
        "As a simple dict comprehension example, we could create a lookup map of these strings to their locations in the list:"
      ]
    },
    {
      "cell_type": "code",
      "metadata": {
        "deletable": true,
        "editable": true,
        "id": "36K4ewxc5Dtc",
        "colab_type": "code",
        "colab": {}
      },
      "source": [
        "loc_mapping = {val : index for index, val in enumerate(strings)}\n",
        "loc_mapping"
      ],
      "execution_count": 0,
      "outputs": []
    },
    {
      "cell_type": "markdown",
      "metadata": {
        "deletable": true,
        "editable": true,
        "id": "8Y6xq_hs5Dtf",
        "colab_type": "text"
      },
      "source": [
        "#### Nested list comprehensions"
      ]
    },
    {
      "cell_type": "code",
      "metadata": {
        "deletable": true,
        "editable": true,
        "id": "Sa4BlaYm5Dtg",
        "colab_type": "code",
        "colab": {}
      },
      "source": [
        "all_data = [['John', 'Emily', 'Michael', 'Mary', 'Steven'],\n",
        "            ['Meriae', 'Juan', 'Javier', 'Natalia', 'Pilar']]"
      ],
      "execution_count": 0,
      "outputs": []
    },
    {
      "cell_type": "markdown",
      "metadata": {
        "deletable": true,
        "editable": true,
        "id": "-FnQ5gBm5Dtl",
        "colab_type": "text"
      },
      "source": [
        "Now, suppose we wanted to get a single list containing all names with two or more e’s in them"
      ]
    },
    {
      "cell_type": "code",
      "metadata": {
        "deletable": true,
        "editable": true,
        "id": "gYC_Gqex5Dtl",
        "colab_type": "code",
        "colab": {}
      },
      "source": [
        "names_of_interest = [] \n",
        "for names in all_data:\n",
        "    enough_es = [name for name in names if name.count('e') >= 2]\n",
        "    names_of_interest.extend(enough_es)\n",
        "names_of_interest"
      ],
      "execution_count": 0,
      "outputs": []
    },
    {
      "cell_type": "code",
      "metadata": {
        "deletable": true,
        "editable": true,
        "id": "HGXrHXZM5Dts",
        "colab_type": "code",
        "colab": {}
      },
      "source": [
        "result = [name for names in all_data \n",
        "          for name in names\n",
        "          if name.count('e') >= 2]\n",
        "result"
      ],
      "execution_count": 0,
      "outputs": []
    },
    {
      "cell_type": "markdown",
      "metadata": {
        "id": "X36G-cOn5Dtv",
        "colab_type": "text"
      },
      "source": [
        "The for parts of the list comprehension are arranged according to the order of nesting, and any filter condition is put at the end as before. Here is another example where we “flatten” a list of tuples of integers into a simple list of integers:\n"
      ]
    },
    {
      "cell_type": "code",
      "metadata": {
        "id": "Fd9NP9xU5Dtx",
        "colab_type": "code",
        "colab": {}
      },
      "source": [
        "flattened = []\n",
        "for tup in some_tuples: for x in tup:\n",
        "            flattened.append(x)"
      ],
      "execution_count": 0,
      "outputs": []
    },
    {
      "cell_type": "code",
      "metadata": {
        "deletable": true,
        "editable": true,
        "id": "3N9kqPVo5Dt0",
        "colab_type": "code",
        "colab": {}
      },
      "source": [
        "some_tuples = [(1, 2, 3), (4, 5, 6), (7, 8, 9)]\n",
        "flattened = [x for tup in some_tuples \n",
        "             for x in tup]\n",
        "flattened"
      ],
      "execution_count": 0,
      "outputs": []
    },
    {
      "cell_type": "markdown",
      "metadata": {
        "deletable": true,
        "editable": true,
        "id": "tDx4zuWT5DuH",
        "colab_type": "text"
      },
      "source": [
        "fYou can have arbitrarily many levels of nesting, though if you have more than two or three levels of nesting you should probably start to question whether this makes sense from a code readability standpoint. It’s important to distinguish the syntax just shown from a list comprehension inside a list comprehension, which is also perfectly valid:"
      ]
    },
    {
      "cell_type": "code",
      "metadata": {
        "deletable": true,
        "editable": true,
        "id": "0laQIPFs5DuI",
        "colab_type": "code",
        "colab": {}
      },
      "source": [
        "[[x for x in tup] for tup in some_tuples]"
      ],
      "execution_count": 0,
      "outputs": []
    },
    {
      "cell_type": "markdown",
      "metadata": {
        "deletable": true,
        "editable": true,
        "id": "L9kAGaaU5DuL",
        "colab_type": "text"
      },
      "source": [
        "## Functions"
      ]
    },
    {
      "cell_type": "markdown",
      "metadata": {
        "id": "OnGWw6R_5DuM",
        "colab_type": "text"
      },
      "source": [
        "Functions are declared with the def keyword and returned from with the return key‐word:"
      ]
    },
    {
      "cell_type": "code",
      "metadata": {
        "deletable": true,
        "editable": true,
        "id": "FVuSeTee5DuN",
        "colab_type": "code",
        "colab": {}
      },
      "source": [
        "def my_function(x, y, z=1.5):\n",
        "    if z > 1:\n",
        "        return z * (x + y)\n",
        "    else:\n",
        "        return z / (x + y)"
      ],
      "execution_count": 0,
      "outputs": []
    },
    {
      "cell_type": "markdown",
      "metadata": {
        "id": "Me4jXkY_5DuQ",
        "colab_type": "text"
      },
      "source": [
        "Each function can have positional arguments and keyword arguments. Keyword arguments are most commonly used to specify default values or optional arguments. In the preceding function, x and y are positional arguments while z is a keyword argu‐ment. This means that the function can be called in any of these ways:"
      ]
    },
    {
      "cell_type": "code",
      "metadata": {
        "deletable": true,
        "editable": true,
        "id": "dQaaXSOr5DuS",
        "colab_type": "code",
        "colab": {}
      },
      "source": [
        "my_function(5, 6, z=0.7)\n",
        "my_function(3.14, 7, 3.5)\n",
        "my_function(10, 20)"
      ],
      "execution_count": 0,
      "outputs": []
    },
    {
      "cell_type": "markdown",
      "metadata": {
        "id": "gGyiBqBR5DuU",
        "colab_type": "text"
      },
      "source": [
        "<p>The main restriction on function arguments is that the keyword arguments must fol‐ low the positional arguments (if any). You can specify keyword arguments in any order; this frees you from having to remember which order the function arguments were specified in and only what their names are.</p><p>\n",
        "It is possible to use keywords for passing positional arguments as well. In the preceding example, we could also have written:</p>"
      ]
    },
    {
      "cell_type": "code",
      "metadata": {
        "id": "QBNKV6k55DuV",
        "colab_type": "code",
        "colab": {}
      },
      "source": [
        "my_function(x=5, y=6, z=7)\n",
        "my_function(y=6, x=5, z=7)"
      ],
      "execution_count": 0,
      "outputs": []
    },
    {
      "cell_type": "markdown",
      "metadata": {
        "deletable": true,
        "editable": true,
        "id": "GSKF7-_u5DuY",
        "colab_type": "text"
      },
      "source": [
        "### Namespaces, Scope, and Local Functions"
      ]
    },
    {
      "cell_type": "code",
      "metadata": {
        "deletable": true,
        "editable": true,
        "id": "9rvrYtdI5DuZ",
        "colab_type": "code",
        "colab": {}
      },
      "source": [
        "def func():\n",
        "    a = []\n",
        "    for i in range(5):\n",
        "        a.append(i)"
      ],
      "execution_count": 0,
      "outputs": []
    },
    {
      "cell_type": "code",
      "metadata": {
        "deletable": true,
        "editable": true,
        "id": "0cAJ4Z5A5Dud",
        "colab_type": "code",
        "colab": {}
      },
      "source": [
        "a = []\n",
        "def func():\n",
        "    for i in range(5):\n",
        "        a.append(i)"
      ],
      "execution_count": 0,
      "outputs": []
    },
    {
      "cell_type": "markdown",
      "metadata": {
        "id": "p_UB7M6F5Duf",
        "colab_type": "text"
      },
      "source": [
        "Assigning variables outside of the function’s scope is possible, but those variables must be declared as global via the global keyword:"
      ]
    },
    {
      "cell_type": "code",
      "metadata": {
        "deletable": true,
        "editable": true,
        "id": "02K3Hps95Dug",
        "colab_type": "code",
        "colab": {}
      },
      "source": [
        "a = None\n",
        "def bind_a_variable():\n",
        "    global a\n",
        "    a = []\n",
        "bind_a_variable()\n",
        "print(a)"
      ],
      "execution_count": 0,
      "outputs": []
    },
    {
      "cell_type": "markdown",
      "metadata": {
        "deletable": true,
        "editable": true,
        "id": "NH7tjvCh5Dul",
        "colab_type": "text"
      },
      "source": [
        "### Returning Multiple Values"
      ]
    },
    {
      "cell_type": "code",
      "metadata": {
        "deletable": true,
        "editable": true,
        "id": "rolio9e_5Dun",
        "colab_type": "code",
        "colab": {}
      },
      "source": [
        "def f():\n",
        "    a = 5\n",
        "    b = 6\n",
        "    c = 7\n",
        "    return a, b, c\n",
        "\n",
        "a, b, c = f()"
      ],
      "execution_count": 0,
      "outputs": []
    },
    {
      "cell_type": "code",
      "metadata": {
        "deletable": true,
        "editable": true,
        "id": "ENmfWADq5Dus",
        "colab_type": "code",
        "colab": {}
      },
      "source": [
        "return_value = f()"
      ],
      "execution_count": 0,
      "outputs": []
    },
    {
      "cell_type": "code",
      "metadata": {
        "deletable": true,
        "editable": true,
        "id": "NNRJzNvT5Duw",
        "colab_type": "code",
        "colab": {}
      },
      "source": [
        "def f():\n",
        "    a = 5\n",
        "    b = 6\n",
        "    c = 7\n",
        "    return {'a' : a, 'b' : b, 'c' : c}"
      ],
      "execution_count": 0,
      "outputs": []
    },
    {
      "cell_type": "markdown",
      "metadata": {
        "deletable": true,
        "editable": true,
        "id": "0yZirTnt5Du0",
        "colab_type": "text"
      },
      "source": [
        "### Functions Are Objects"
      ]
    },
    {
      "cell_type": "code",
      "metadata": {
        "deletable": true,
        "editable": true,
        "id": "YUCqAUBy5Du1",
        "colab_type": "code",
        "colab": {}
      },
      "source": [
        "states = ['   Alabama ', 'Georgia!', 'Georgia', 'georgia', 'FlOrIda',\n",
        "          'south   carolina##', 'W-est virginia?']"
      ],
      "execution_count": 0,
      "outputs": []
    },
    {
      "cell_type": "code",
      "metadata": {
        "deletable": true,
        "editable": true,
        "id": "uK-JGOjV5Du4",
        "colab_type": "code",
        "colab": {}
      },
      "source": [
        "import re\n",
        "\n",
        "def clean_strings(strings):\n",
        "    result = []\n",
        "    for value in strings:\n",
        "        value = value.strip()\n",
        "        value = re.sub('[!#?-]', '', value)\n",
        "        value = value.title()\n",
        "        result.append(value)\n",
        "    return result"
      ],
      "execution_count": 0,
      "outputs": []
    },
    {
      "cell_type": "code",
      "metadata": {
        "deletable": true,
        "editable": true,
        "id": "atp2usWz5Du9",
        "colab_type": "code",
        "colab": {},
        "outputId": "033b4538-7972-48ab-a4b4-5eff02ec15b8"
      },
      "source": [
        "clean_strings(states)"
      ],
      "execution_count": 0,
      "outputs": [
        {
          "output_type": "execute_result",
          "data": {
            "text/plain": [
              "['Alabama',\n",
              " 'Georgia',\n",
              " 'Georgia',\n",
              " 'Georgia',\n",
              " 'Florida',\n",
              " 'South   Carolina',\n",
              " 'West Virginia']"
            ]
          },
          "metadata": {
            "tags": []
          },
          "execution_count": 3
        }
      ]
    },
    {
      "cell_type": "code",
      "metadata": {
        "deletable": true,
        "editable": true,
        "id": "2ZSy6YgO5DvG",
        "colab_type": "code",
        "colab": {}
      },
      "source": [
        "def remove_punctuation(value):\n",
        "    return re.sub('[!#?]', '', value)\n",
        "\n",
        "clean_ops = [str.strip, remove_punctuation, str.title]\n",
        "\n",
        "def clean_strings(strings, ops):\n",
        "    result = []\n",
        "    for value in strings:\n",
        "        for function in ops:\n",
        "            value = function(value)\n",
        "        result.append(value)\n",
        "    return result"
      ],
      "execution_count": 0,
      "outputs": []
    },
    {
      "cell_type": "code",
      "metadata": {
        "deletable": true,
        "editable": true,
        "id": "ETILSRKI5DvK",
        "colab_type": "code",
        "colab": {}
      },
      "source": [
        "clean_strings(states, clean_ops)"
      ],
      "execution_count": 0,
      "outputs": []
    },
    {
      "cell_type": "markdown",
      "metadata": {
        "id": "adIDaE3W5DvN",
        "colab_type": "text"
      },
      "source": [
        "<p>A more functional pattern like this enables you to easily modify how the strings are transformed at a very high level. The clean_strings function is also now more reus‐ able and generic.</p>\n",
        "You can use <i>functions<i > as arguments to other functions like the built-in <b>map</b>:function, which applies a function to a sequence of some kind:\n"
      ]
    },
    {
      "cell_type": "code",
      "metadata": {
        "deletable": true,
        "editable": true,
        "id": "ub-yWDJf5DvO",
        "colab_type": "code",
        "colab": {}
      },
      "source": [
        "for x in map(remove_punctuation, states):\n",
        "    print(x)"
      ],
      "execution_count": 0,
      "outputs": []
    },
    {
      "cell_type": "markdown",
      "metadata": {
        "deletable": true,
        "editable": true,
        "id": "RkC0p2mv5DvQ",
        "colab_type": "text"
      },
      "source": [
        "### Anonymous (Lambda) Functions"
      ]
    },
    {
      "cell_type": "markdown",
      "metadata": {
        "id": "LGXtg4Jn5DvS",
        "colab_type": "text"
      },
      "source": [
        "lambda functions are a way of writing functions consisting of a single statement, the result of which is the return value. They are defined with the lambda keyword."
      ]
    },
    {
      "cell_type": "code",
      "metadata": {
        "deletable": true,
        "editable": true,
        "id": "flN_9qTj5DvS",
        "colab_type": "code",
        "colab": {}
      },
      "source": [
        "def short_function(x):\n",
        "    return x * 2\n",
        "#equivalent \n",
        "equiv_anon = lambda x: x * 2"
      ],
      "execution_count": 0,
      "outputs": []
    },
    {
      "cell_type": "code",
      "metadata": {
        "deletable": true,
        "editable": true,
        "id": "Y-x3STT05DvW",
        "colab_type": "code",
        "colab": {}
      },
      "source": [
        "def apply_to_list(some_list, f):\n",
        "    return [f(x) for x in some_list]\n",
        "\n",
        "ints = [4, 0, 1, 5, 6]\n",
        "apply_to_list(ints, lambda x: x * 2)"
      ],
      "execution_count": 0,
      "outputs": []
    },
    {
      "cell_type": "markdown",
      "metadata": {
        "deletable": true,
        "editable": true,
        "id": "IQJL2Sq35DvZ",
        "colab_type": "text"
      },
      "source": [
        "As another example, suppose you wanted to sort a collection of strings by the number of distinct letters in each string:"
      ]
    },
    {
      "cell_type": "code",
      "metadata": {
        "deletable": true,
        "editable": true,
        "id": "EuWfl0re5Dva",
        "colab_type": "code",
        "colab": {}
      },
      "source": [
        "strings = ['foo', 'card', 'bar', 'aaaa', 'abab']"
      ],
      "execution_count": 0,
      "outputs": []
    },
    {
      "cell_type": "code",
      "metadata": {
        "deletable": true,
        "editable": true,
        "id": "uHtE8QJd5Dvc",
        "colab_type": "code",
        "colab": {}
      },
      "source": [
        "strings.sort(key=lambda x: len(set(list(x))))\n",
        "strings"
      ],
      "execution_count": 0,
      "outputs": []
    },
    {
      "cell_type": "markdown",
      "metadata": {
        "deletable": true,
        "editable": true,
        "id": "TAW8zJmV5Dvh",
        "colab_type": "text"
      },
      "source": [
        "### Currying: Partial Argument Application"
      ]
    },
    {
      "cell_type": "markdown",
      "metadata": {
        "id": "9KLIt9B75Dvi",
        "colab_type": "text"
      },
      "source": [
        "Currying is computer science jargon (named after the mathematician Haskell Curry) that means deriving new functions from existing ones by partial argument applica‐ tion. For example, suppose we had a trivial function that adds two numbers together:\n"
      ]
    },
    {
      "cell_type": "code",
      "metadata": {
        "deletable": true,
        "editable": true,
        "id": "ryZwweUn5Dvi",
        "colab_type": "code",
        "colab": {}
      },
      "source": [
        "def add_numbers(x, y):\n",
        "    return x + y"
      ],
      "execution_count": 0,
      "outputs": []
    },
    {
      "cell_type": "code",
      "metadata": {
        "deletable": true,
        "editable": true,
        "id": "SL5sjBlm5Dvm",
        "colab_type": "code",
        "colab": {}
      },
      "source": [
        "add_five = lambda y: add_numbers(5, y)"
      ],
      "execution_count": 0,
      "outputs": []
    },
    {
      "cell_type": "markdown",
      "metadata": {
        "id": "Lj-xpiXg5Dvq",
        "colab_type": "text"
      },
      "source": [
        "The second argument to add_numbers is said to be curried. There’s nothing very fancy here, as all we’ve really done is define a new function that calls an existing function. The built-in functools module can simplify this process using the partial function:\n"
      ]
    },
    {
      "cell_type": "code",
      "metadata": {
        "deletable": true,
        "editable": true,
        "id": "nRNDOhQZ5Dvr",
        "colab_type": "code",
        "colab": {}
      },
      "source": [
        "from functools import partial\n",
        "add_five = partial(add_numbers, 5)"
      ],
      "execution_count": 0,
      "outputs": []
    },
    {
      "cell_type": "markdown",
      "metadata": {
        "deletable": true,
        "editable": true,
        "id": "uosHpmOF5Dvu",
        "colab_type": "text"
      },
      "source": [
        "### Generators"
      ]
    },
    {
      "cell_type": "code",
      "metadata": {
        "deletable": true,
        "editable": true,
        "id": "2GQP9o3y5Dvv",
        "colab_type": "code",
        "colab": {}
      },
      "source": [
        "some_dict = {'a': 1, 'b': 2, 'c': 3}\n",
        "for key in some_dict:\n",
        "    print(key)"
      ],
      "execution_count": 0,
      "outputs": []
    },
    {
      "cell_type": "markdown",
      "metadata": {
        "id": "NO3NeAvU5Dvx",
        "colab_type": "text"
      },
      "source": [
        "When you write for key in some_dict, the Python interpreter first attempts to cre‐ ate an iterator out of some_dict:"
      ]
    },
    {
      "cell_type": "code",
      "metadata": {
        "deletable": true,
        "editable": true,
        "id": "k5fNNu9Y5Dvy",
        "colab_type": "code",
        "colab": {}
      },
      "source": [
        "dict_iterator = iter(some_dict)\n",
        "dict_iterator"
      ],
      "execution_count": 0,
      "outputs": []
    },
    {
      "cell_type": "markdown",
      "metadata": {
        "id": "Qzc4vS-I5Dv2",
        "colab_type": "text"
      },
      "source": [
        "\n",
        "An iterator is any object that will yield objects to the Python interpreter when used in a context like a for loop. Most methods expecting a list or list-like object will also accept any iterable object. This includes built-in methods such as min, max, and sum, and type constructors like list and tuple:"
      ]
    },
    {
      "cell_type": "code",
      "metadata": {
        "deletable": true,
        "editable": true,
        "id": "tG5h-6DH5Dv3",
        "colab_type": "code",
        "colab": {}
      },
      "source": [
        "list(dict_iterator)"
      ],
      "execution_count": 0,
      "outputs": []
    },
    {
      "cell_type": "markdown",
      "metadata": {
        "id": "hnX8B6cM5Dv7",
        "colab_type": "text"
      },
      "source": [
        "A generator is a concise way to construct a new iterable object. Whereas normal func‐ tions execute and return a single result at a time, generators return a sequence of multiple results lazily, pausing after each one until the next one is requested. To create a generator, use the yield keyword instead of return in a function:"
      ]
    },
    {
      "cell_type": "code",
      "metadata": {
        "deletable": true,
        "editable": true,
        "id": "W1GRvuVI5Dv8",
        "colab_type": "code",
        "colab": {}
      },
      "source": [
        "def squares(n=10):\n",
        "    print('Generating squares from 1 to {0}'.format(n ** 2))\n",
        "    for i in range(1, n + 1):\n",
        "        yield i ** 2"
      ],
      "execution_count": 0,
      "outputs": []
    },
    {
      "cell_type": "code",
      "metadata": {
        "deletable": true,
        "editable": true,
        "id": "klSH1tLj5Dv_",
        "colab_type": "code",
        "colab": {},
        "outputId": "9cb4425c-4c34-48c0-af56-1e3943f4e926"
      },
      "source": [
        "gen = squares()\n",
        "gen"
      ],
      "execution_count": 0,
      "outputs": [
        {
          "output_type": "execute_result",
          "data": {
            "text/plain": [
              "<generator object squares at 0x10bd584f8>"
            ]
          },
          "metadata": {
            "tags": []
          },
          "execution_count": 5
        }
      ]
    },
    {
      "cell_type": "markdown",
      "metadata": {
        "id": "Q3KoZ3qR5DwE",
        "colab_type": "text"
      },
      "source": [
        "It is not until you request elements from the generator that it begins executing its code:\n",
        "    "
      ]
    },
    {
      "cell_type": "code",
      "metadata": {
        "deletable": true,
        "editable": true,
        "id": "4o50vgf25DwE",
        "colab_type": "code",
        "colab": {},
        "outputId": "eb4c1058-265f-42ca-b489-e1f029d2240d"
      },
      "source": [
        "for x in gen:\n",
        "    print(x, end=' ')"
      ],
      "execution_count": 0,
      "outputs": [
        {
          "output_type": "stream",
          "text": [
            "Generating squares from 1 to 100\n",
            "1 4 9 16 25 36 49 64 81 100 "
          ],
          "name": "stdout"
        }
      ]
    },
    {
      "cell_type": "markdown",
      "metadata": {
        "deletable": true,
        "editable": true,
        "id": "WarnbKfv5DwI",
        "colab_type": "text"
      },
      "source": [
        "#### Generator expresssions"
      ]
    },
    {
      "cell_type": "markdown",
      "metadata": {
        "id": "W0JMYTxW5DwJ",
        "colab_type": "text"
      },
      "source": [
        "Another even more concise way to make a generator is by using a generator expres‐ sion. This is a generator analogue to list, dict, and set comprehensions; to create one, enclose what would otherwise be a list comprehension within parentheses instead of brackets:"
      ]
    },
    {
      "cell_type": "code",
      "metadata": {
        "deletable": true,
        "editable": true,
        "id": "6PtHxAV-5DwL",
        "colab_type": "code",
        "colab": {},
        "outputId": "99a170dd-4792-46c5-a02b-a7de0a125ca7"
      },
      "source": [
        "gen = (x ** 2 for x in range(100))\n",
        "gen"
      ],
      "execution_count": 0,
      "outputs": [
        {
          "output_type": "execute_result",
          "data": {
            "text/plain": [
              "<generator object <genexpr> at 0x10bd587c8>"
            ]
          },
          "metadata": {
            "tags": []
          },
          "execution_count": 7
        }
      ]
    },
    {
      "cell_type": "code",
      "metadata": {
        "deletable": true,
        "editable": true,
        "id": "FSdzC8DN5DwN",
        "colab_type": "code",
        "colab": {}
      },
      "source": [
        "#which is equivalent to\n",
        "def _make_gen():\n",
        "    for x in range(100):\n",
        "        yield x ** 2\n",
        "gen = _make_gen()"
      ],
      "execution_count": 0,
      "outputs": []
    },
    {
      "cell_type": "markdown",
      "metadata": {
        "id": "jIA0F-Va5DwR",
        "colab_type": "text"
      },
      "source": [
        "Generator expressions can be used instead of list comprehensions as function argu‐ ments in many cases:\n"
      ]
    },
    {
      "cell_type": "code",
      "metadata": {
        "deletable": true,
        "editable": true,
        "id": "CR40UeIG5DwS",
        "colab_type": "code",
        "colab": {}
      },
      "source": [
        "sum(x ** 2 for x in range(100))\n",
        "dict((i, i **2) for i in range(5))"
      ],
      "execution_count": 0,
      "outputs": []
    },
    {
      "cell_type": "markdown",
      "metadata": {
        "deletable": true,
        "editable": true,
        "id": "HpvEOVgY5DwV",
        "colab_type": "text"
      },
      "source": [
        "#### itertools module"
      ]
    },
    {
      "cell_type": "code",
      "metadata": {
        "deletable": true,
        "editable": true,
        "id": "N3hoLQzb5DwW",
        "colab_type": "code",
        "colab": {},
        "outputId": "0d4eb505-2c54-4c8a-fc47-0a6fad42bd4e"
      },
      "source": [
        "import itertools\n",
        "first_letter = lambda x: x[0]\n",
        "names = ['Alan', 'Adam', 'Wes', 'Will', 'Albert', 'Steven']\n",
        "for letter, names in itertools.groupby(names, first_letter):\n",
        "    print(letter, list(names)) # names is a generator"
      ],
      "execution_count": 0,
      "outputs": [
        {
          "output_type": "stream",
          "text": [
            "A ['Alan', 'Adam']\n",
            "W ['Wes', 'Will']\n",
            "A ['Albert']\n",
            "S ['Steven']\n"
          ],
          "name": "stdout"
        }
      ]
    },
    {
      "cell_type": "markdown",
      "metadata": {
        "deletable": true,
        "editable": true,
        "id": "2eRf0Gtt5DwZ",
        "colab_type": "text"
      },
      "source": [
        "### Errors and Exception Handling"
      ]
    },
    {
      "cell_type": "code",
      "metadata": {
        "deletable": true,
        "editable": true,
        "id": "VnSSf9SS5Dwa",
        "colab_type": "code",
        "colab": {}
      },
      "source": [
        "float('1.2345')\n",
        "float('something')"
      ],
      "execution_count": 0,
      "outputs": []
    },
    {
      "cell_type": "code",
      "metadata": {
        "deletable": true,
        "editable": true,
        "id": "66hW0uDZ5Dwc",
        "colab_type": "code",
        "colab": {}
      },
      "source": [
        "def attempt_float(x):\n",
        "    try:\n",
        "        return float(x)\n",
        "    except:\n",
        "        return x"
      ],
      "execution_count": 0,
      "outputs": []
    },
    {
      "cell_type": "code",
      "metadata": {
        "deletable": true,
        "editable": true,
        "id": "Vo81JjF15Dwg",
        "colab_type": "code",
        "colab": {}
      },
      "source": [
        "attempt_float('1.2345')\n",
        "attempt_float('something')"
      ],
      "execution_count": 0,
      "outputs": []
    },
    {
      "cell_type": "code",
      "metadata": {
        "deletable": true,
        "editable": true,
        "id": "66ETVj4W5Dwj",
        "colab_type": "code",
        "colab": {}
      },
      "source": [
        "float((1, 2))"
      ],
      "execution_count": 0,
      "outputs": []
    },
    {
      "cell_type": "code",
      "metadata": {
        "deletable": true,
        "editable": true,
        "id": "qaqbhBEP5Dwm",
        "colab_type": "code",
        "colab": {}
      },
      "source": [
        "def attempt_float(x):\n",
        "    try:\n",
        "        return float(x)\n",
        "    except ValueError:\n",
        "        return x"
      ],
      "execution_count": 0,
      "outputs": []
    },
    {
      "cell_type": "code",
      "metadata": {
        "deletable": true,
        "editable": true,
        "id": "qkwQscG65Dwp",
        "colab_type": "code",
        "colab": {}
      },
      "source": [
        "attempt_float((1, 2))"
      ],
      "execution_count": 0,
      "outputs": []
    },
    {
      "cell_type": "code",
      "metadata": {
        "deletable": true,
        "editable": true,
        "id": "tPObzjTa5Dwr",
        "colab_type": "code",
        "colab": {}
      },
      "source": [
        "def attempt_float(x):\n",
        "    try:\n",
        "        return float(x)\n",
        "    except (TypeError, ValueError):\n",
        "        return x"
      ],
      "execution_count": 0,
      "outputs": []
    },
    {
      "cell_type": "code",
      "metadata": {
        "deletable": true,
        "editable": true,
        "id": "VxOKo0je5Dwu",
        "colab_type": "code",
        "colab": {}
      },
      "source": [
        "f = open(path, 'w')\n",
        "\n",
        "try:\n",
        "    write_to_file(f)\n",
        "finally:\n",
        "    f.close()"
      ],
      "execution_count": 0,
      "outputs": []
    },
    {
      "cell_type": "code",
      "metadata": {
        "deletable": true,
        "editable": true,
        "id": "iu4tczOD5DxC",
        "colab_type": "code",
        "colab": {}
      },
      "source": [
        "f = open(path, 'w')\n",
        "\n",
        "try:\n",
        "    write_to_file(f)\n",
        "except:\n",
        "    print('Failed')\n",
        "else:\n",
        "    print('Succeeded')\n",
        "finally:\n",
        "    f.close()"
      ],
      "execution_count": 0,
      "outputs": []
    },
    {
      "cell_type": "markdown",
      "metadata": {
        "deletable": true,
        "editable": true,
        "id": "kYgNfqhb5DxF",
        "colab_type": "text"
      },
      "source": [
        "#### Exceptions in IPython"
      ]
    },
    {
      "cell_type": "code",
      "metadata": {
        "deletable": true,
        "editable": true,
        "id": "Xl73xdxt5DxI",
        "colab_type": "code",
        "colab": {}
      },
      "source": [
        "In [10]: %run examples/ipython_bug.py\n",
        "---------------------------------------------------------------------------\n",
        "AssertionError                            Traceback (most recent call last)\n",
        "/home/wesm/code/pydata-book/examples/ipython_bug.py in <module>()\n",
        "     13     throws_an_exception()\n",
        "     14\n",
        "---> 15 calling_things()\n",
        "\n",
        "/home/wesm/code/pydata-book/examples/ipython_bug.py in calling_things()\n",
        "     11 def calling_things():\n",
        "     12     works_fine()\n",
        "---> 13     throws_an_exception()\n",
        "     14\n",
        "     15 calling_things()\n",
        "\n",
        "/home/wesm/code/pydata-book/examples/ipython_bug.py in throws_an_exception()\n",
        "      7     a = 5\n",
        "      8     b = 6\n",
        "----> 9     assert(a + b == 10)\n",
        "     10\n",
        "     11 def calling_things():\n",
        "\n",
        "AssertionError:"
      ],
      "execution_count": 0,
      "outputs": []
    },
    {
      "cell_type": "markdown",
      "metadata": {
        "deletable": true,
        "editable": true,
        "id": "_Pu7Y1_y5DxL",
        "colab_type": "text"
      },
      "source": [
        "## Files and the Operating System"
      ]
    },
    {
      "cell_type": "code",
      "metadata": {
        "deletable": true,
        "editable": true,
        "id": "jyV1wnBA5DxM",
        "colab_type": "code",
        "colab": {}
      },
      "source": [
        "%pushd book-materials"
      ],
      "execution_count": 0,
      "outputs": []
    },
    {
      "cell_type": "code",
      "metadata": {
        "deletable": true,
        "editable": true,
        "id": "_-DMqKCI5DxP",
        "colab_type": "code",
        "colab": {}
      },
      "source": [
        "path = 'examples/segismundo.txt'\n",
        "f = open(path)"
      ],
      "execution_count": 0,
      "outputs": []
    },
    {
      "cell_type": "code",
      "metadata": {
        "deletable": true,
        "editable": true,
        "id": "dS5n2Zsq5DxS",
        "colab_type": "code",
        "colab": {}
      },
      "source": [
        "for line in f:\n",
        "    pass"
      ],
      "execution_count": 0,
      "outputs": []
    },
    {
      "cell_type": "markdown",
      "metadata": {
        "id": "D-rJEbZ15DxU",
        "colab_type": "text"
      },
      "source": [
        "The lines come out of the file with the end-of-line (EOL) markers intact, so you’ll often see code to get an EOL-free list of lines in a file like:"
      ]
    },
    {
      "cell_type": "code",
      "metadata": {
        "deletable": true,
        "editable": true,
        "id": "D1X6JNUX5DxV",
        "colab_type": "code",
        "colab": {}
      },
      "source": [
        "lines = [x.rstrip() for x in open(path)]\n",
        "lines"
      ],
      "execution_count": 0,
      "outputs": []
    },
    {
      "cell_type": "code",
      "metadata": {
        "deletable": true,
        "editable": true,
        "id": "gcb31AJL5DxZ",
        "colab_type": "code",
        "colab": {}
      },
      "source": [
        "f.close()"
      ],
      "execution_count": 0,
      "outputs": []
    },
    {
      "cell_type": "code",
      "metadata": {
        "deletable": true,
        "editable": true,
        "id": "fMlOXF9c5Dxb",
        "colab_type": "code",
        "colab": {}
      },
      "source": [
        "with open(path) as f:\n",
        "    lines = [x.rstrip() for x in f]"
      ],
      "execution_count": 0,
      "outputs": []
    },
    {
      "cell_type": "markdown",
      "metadata": {
        "id": "GdRNLAXJ5Dxe",
        "colab_type": "text"
      },
      "source": [
        "This will automatically close the file f when exiting the <b>with</b> block."
      ]
    },
    {
      "cell_type": "markdown",
      "metadata": {
        "id": "CyE_Jzik5Dxf",
        "colab_type": "text"
      },
      "source": [
        "If we had typed f = open(path, 'w'), a new file at examples/segismundo.txt would have been created (be careful!), overwriting any one in its place. There is also the 'x' file mode, which creates a writable file but fails if the file path already exists."
      ]
    },
    {
      "cell_type": "code",
      "metadata": {
        "deletable": true,
        "editable": true,
        "id": "z7BkO75W5Dxg",
        "colab_type": "code",
        "colab": {}
      },
      "source": [
        "f = open(path)\n",
        "f.read(10)\n",
        "f2 = open(path, 'rb')  # Binary mode\n",
        "f2.read(10)"
      ],
      "execution_count": 0,
      "outputs": []
    },
    {
      "cell_type": "code",
      "metadata": {
        "deletable": true,
        "editable": true,
        "id": "wFXZzFCp5Dxj",
        "colab_type": "code",
        "colab": {}
      },
      "source": [
        "f.tell()\n",
        "f2.tell()"
      ],
      "execution_count": 0,
      "outputs": []
    },
    {
      "cell_type": "code",
      "metadata": {
        "deletable": true,
        "editable": true,
        "id": "gCE4yRL65Dxm",
        "colab_type": "code",
        "colab": {}
      },
      "source": [
        "import sys\n",
        "sys.getdefaultencoding()"
      ],
      "execution_count": 0,
      "outputs": []
    },
    {
      "cell_type": "code",
      "metadata": {
        "deletable": true,
        "editable": true,
        "id": "DToiOkHl5Dxo",
        "colab_type": "code",
        "colab": {}
      },
      "source": [
        "f.seek(3)\n",
        "f.read(1)"
      ],
      "execution_count": 0,
      "outputs": []
    },
    {
      "cell_type": "code",
      "metadata": {
        "deletable": true,
        "editable": true,
        "id": "Exe2mqNk5Dxs",
        "colab_type": "code",
        "colab": {}
      },
      "source": [
        "f.close()\n",
        "f2.close()"
      ],
      "execution_count": 0,
      "outputs": []
    },
    {
      "cell_type": "markdown",
      "metadata": {
        "id": "2g2XI38U5Dxu",
        "colab_type": "text"
      },
      "source": [
        "To write text to a file, you can use the file’s write or writelines methods. For exam‐\n",
        "ple, we could create a version of prof_mod.py with no blank lines like so:"
      ]
    },
    {
      "cell_type": "code",
      "metadata": {
        "deletable": true,
        "editable": true,
        "id": "0wgXu3iG5Dxw",
        "colab_type": "code",
        "colab": {}
      },
      "source": [
        "with open('tmp.txt', 'w') as handle:\n",
        "    handle.writelines(x for x in open(path) if len(x) > 1)\n",
        "with open('tmp.txt') as f:\n",
        "    lines = f.readlines()\n",
        "lines"
      ],
      "execution_count": 0,
      "outputs": []
    },
    {
      "cell_type": "code",
      "metadata": {
        "deletable": true,
        "editable": true,
        "id": "Ie9udbUw5Dxy",
        "colab_type": "code",
        "colab": {}
      },
      "source": [
        "import os\n",
        "os.remove('tmp.txt')"
      ],
      "execution_count": 0,
      "outputs": []
    },
    {
      "cell_type": "markdown",
      "metadata": {
        "deletable": true,
        "editable": true,
        "id": "AFsbuzfo5Dx1",
        "colab_type": "text"
      },
      "source": [
        "### Bytes and Unicode with Files"
      ]
    },
    {
      "cell_type": "code",
      "metadata": {
        "deletable": true,
        "editable": true,
        "id": "NTa81CzR5Dx2",
        "colab_type": "code",
        "colab": {}
      },
      "source": [
        "with open(path) as f:\n",
        "    chars = f.read(10)\n",
        "chars"
      ],
      "execution_count": 0,
      "outputs": []
    },
    {
      "cell_type": "code",
      "metadata": {
        "deletable": true,
        "editable": true,
        "id": "68VceCxY5Dx5",
        "colab_type": "code",
        "colab": {}
      },
      "source": [
        "with open(path, 'rb') as f:\n",
        "    data = f.read(10)\n",
        "data"
      ],
      "execution_count": 0,
      "outputs": []
    },
    {
      "cell_type": "code",
      "metadata": {
        "deletable": true,
        "editable": true,
        "id": "HTUOIty95Dx8",
        "colab_type": "code",
        "colab": {}
      },
      "source": [
        "data.decode('utf8')\n",
        "data[:4].decode('utf8')"
      ],
      "execution_count": 0,
      "outputs": []
    },
    {
      "cell_type": "code",
      "metadata": {
        "deletable": true,
        "editable": true,
        "id": "CgWgWeH15Dx-",
        "colab_type": "code",
        "colab": {}
      },
      "source": [
        "sink_path = 'sink.txt'\n",
        "with open(path) as source:\n",
        "    with open(sink_path, 'xt', encoding='iso-8859-1') as sink:\n",
        "        sink.write(source.read())\n",
        "with open(sink_path, encoding='iso-8859-1') as f:\n",
        "    print(f.read(10))"
      ],
      "execution_count": 0,
      "outputs": []
    },
    {
      "cell_type": "code",
      "metadata": {
        "deletable": true,
        "editable": true,
        "id": "1w4hspFC5DyC",
        "colab_type": "code",
        "colab": {}
      },
      "source": [
        "os.remove(sink_path)"
      ],
      "execution_count": 0,
      "outputs": []
    },
    {
      "cell_type": "code",
      "metadata": {
        "deletable": true,
        "editable": true,
        "id": "zq4nn3-Q5DyE",
        "colab_type": "code",
        "colab": {}
      },
      "source": [
        "f = open(path)\n",
        "f.read(5)\n",
        "f.seek(4)\n",
        "f.read(1)\n",
        "f.close()"
      ],
      "execution_count": 0,
      "outputs": []
    },
    {
      "cell_type": "code",
      "metadata": {
        "deletable": true,
        "editable": true,
        "id": "x0AyIFT65DyH",
        "colab_type": "code",
        "colab": {}
      },
      "source": [
        "%popd"
      ],
      "execution_count": 0,
      "outputs": []
    },
    {
      "cell_type": "markdown",
      "metadata": {
        "deletable": true,
        "editable": true,
        "id": "9WiCW-d35DyN",
        "colab_type": "text"
      },
      "source": [
        "## Conclusion"
      ]
    }
  ]
}