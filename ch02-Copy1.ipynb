{
  "nbformat": 4,
  "nbformat_minor": 0,
  "metadata": {
    "kernelspec": {
      "display_name": "Python 3",
      "language": "python",
      "name": "python3"
    },
    "language_info": {
      "codemirror_mode": {
        "name": "ipython",
        "version": 3
      },
      "file_extension": ".py",
      "mimetype": "text/x-python",
      "name": "python",
      "nbconvert_exporter": "python",
      "pygments_lexer": "ipython3",
      "version": "3.7.3"
    },
    "colab": {
      "name": "ch02-Copy1.ipynb",
      "provenance": []
    }
  },
  "cells": [
    {
      "cell_type": "markdown",
      "metadata": {
        "deletable": true,
        "editable": true,
        "id": "iwXdKuPruFsi",
        "colab_type": "text"
      },
      "source": [
        "# Python Language Basics\n"
      ]
    },
    {
      "cell_type": "markdown",
      "metadata": {
        "deletable": true,
        "editable": true,
        "id": "_DqPsaADuFsk",
        "colab_type": "text"
      },
      "source": [
        "### About Magic Commands"
      ]
    },
    {
      "cell_type": "markdown",
      "metadata": {
        "deletable": true,
        "editable": true,
        "id": "Nus_tF-uuFsl",
        "colab_type": "text"
      },
      "source": [
        "IPython’s special commands (which are not built into Python itself) are known as “magic” commands. These are designed to facilitate common tasks and enable you to easily control the behavior of the IPython system.\n",
        "A magic command is any command prefixed by the percent symbol %. For example, you can check the execution time of any Python statement, such as a matrix multiplication, using the %timeit magic function "
      ]
    },
    {
      "cell_type": "markdown",
      "metadata": {
        "deletable": true,
        "editable": true,
        "id": "lGACB8pOuFsm",
        "colab_type": "text"
      },
      "source": [
        "```python\n",
        "In [20]: a = np.random.randn(100, 100)\n",
        "\n",
        "In [20]: %timeit np.dot(a, a)\n",
        "10000 loops, best of 3: 20.9 µs per loop\n",
        "```"
      ]
    },
    {
      "cell_type": "markdown",
      "metadata": {
        "id": "37C6BGCXuFsn",
        "colab_type": "text"
      },
      "source": [
        "%magic :Display detailed documentation for all of the available magic commands"
      ]
    },
    {
      "cell_type": "markdown",
      "metadata": {
        "id": "G3bcbAJVuFso",
        "colab_type": "text"
      },
      "source": [
        ""
      ]
    },
    {
      "cell_type": "markdown",
      "metadata": {
        "deletable": true,
        "editable": true,
        "id": "AuWuFZ48uFsp",
        "colab_type": "text"
      },
      "source": [
        "### Matplotlib Integration"
      ]
    },
    {
      "cell_type": "markdown",
      "metadata": {
        "id": "J7fLZD-WuFsq",
        "colab_type": "text"
      },
      "source": [
        "if you want to see the graphics in your jupiter notebook use the %matplotlib magic command\n"
      ]
    },
    {
      "cell_type": "markdown",
      "metadata": {
        "deletable": true,
        "editable": true,
        "id": "ZOGiyoyNuFsr",
        "colab_type": "text"
      },
      "source": [
        "```python\n",
        "In [26]: %matplotlib inline\n",
        "```"
      ]
    },
    {
      "cell_type": "markdown",
      "metadata": {
        "deletable": true,
        "editable": true,
        "id": "xk4pMFUSuFss",
        "colab_type": "text"
      },
      "source": [
        "## Python Language Basics"
      ]
    },
    {
      "cell_type": "markdown",
      "metadata": {
        "deletable": true,
        "editable": true,
        "id": "jI_sF2QMuFst",
        "colab_type": "text"
      },
      "source": [
        "### Language Semantics"
      ]
    },
    {
      "cell_type": "markdown",
      "metadata": {
        "deletable": true,
        "editable": true,
        "id": "Nugs1a6ZuFsu",
        "colab_type": "text"
      },
      "source": [
        "#### Indentation, not braces"
      ]
    },
    {
      "cell_type": "markdown",
      "metadata": {
        "deletable": true,
        "editable": true,
        "id": "m5a9eqAiuFsv",
        "colab_type": "text"
      },
      "source": [
        "```python\n",
        "for x in array:\n",
        "    if x < pivot:\n",
        "        less.append(x)\n",
        "    else:\n",
        "        greater.append(x)\n",
        "```"
      ]
    },
    {
      "cell_type": "markdown",
      "metadata": {
        "id": "aE5LSgV_uFsw",
        "colab_type": "text"
      },
      "source": [
        "for mulitple statements in a single line (discouraged)\n"
      ]
    },
    {
      "cell_type": "markdown",
      "metadata": {
        "deletable": true,
        "editable": true,
        "id": "kj2NnUEzuFsx",
        "colab_type": "text"
      },
      "source": [
        "```python\n",
        "a = 5; b = 6; c = 7\n",
        "```"
      ]
    },
    {
      "cell_type": "markdown",
      "metadata": {
        "deletable": true,
        "editable": true,
        "id": "IsjqW2lpuFsy",
        "colab_type": "text"
      },
      "source": [
        "#### Everything is an object"
      ]
    },
    {
      "cell_type": "markdown",
      "metadata": {
        "deletable": true,
        "editable": true,
        "id": "Fkza_1NyuFsz",
        "colab_type": "text"
      },
      "source": [
        "#### Comments"
      ]
    },
    {
      "cell_type": "markdown",
      "metadata": {
        "deletable": true,
        "editable": true,
        "id": "4f6JzIgKuFs0",
        "colab_type": "text"
      },
      "source": [
        "```python\n",
        "results = []\n",
        "for line in file_handle:\n",
        "    # keep the empty lines for now\n",
        "    # if len(line) == 0:\n",
        "    #   continue\n",
        "    results.append(line.replace('foo', 'bar'))\n",
        "```"
      ]
    },
    {
      "cell_type": "markdown",
      "metadata": {
        "deletable": true,
        "editable": true,
        "id": "6aw4q7-vuFs1",
        "colab_type": "text"
      },
      "source": [
        "```python\n",
        "print(\"Reached this line\")  # Simple status report\n",
        "```"
      ]
    },
    {
      "cell_type": "markdown",
      "metadata": {
        "deletable": true,
        "editable": true,
        "id": "6IW5RfijuFs2",
        "colab_type": "text"
      },
      "source": [
        "#### Function and object method calls"
      ]
    },
    {
      "cell_type": "markdown",
      "metadata": {
        "deletable": true,
        "editable": true,
        "id": "0hd_OnIFuFs6",
        "colab_type": "text"
      },
      "source": [
        "```\n",
        "result = f(x, y, z)\n",
        "g()\n",
        "```"
      ]
    },
    {
      "cell_type": "markdown",
      "metadata": {
        "deletable": true,
        "editable": true,
        "id": "iZdgfPdFuFs7",
        "colab_type": "text"
      },
      "source": [
        "```\n",
        "obj.some_method(x, y, z)\n",
        "```"
      ]
    },
    {
      "cell_type": "markdown",
      "metadata": {
        "id": "Dtlw-XecuFs8",
        "colab_type": "text"
      },
      "source": [
        "Functions can take both positional and keyword arguments:"
      ]
    },
    {
      "cell_type": "markdown",
      "metadata": {
        "deletable": true,
        "editable": true,
        "id": "g74gESaXuFs9",
        "colab_type": "text"
      },
      "source": [
        "```python\n",
        "result = f(a, b, c, d=5, e='foo')\n",
        "```"
      ]
    },
    {
      "cell_type": "markdown",
      "metadata": {
        "deletable": true,
        "editable": true,
        "id": "NciH1Dy1uFs9",
        "colab_type": "text"
      },
      "source": [
        "#### Variables and argument passing"
      ]
    },
    {
      "cell_type": "markdown",
      "metadata": {
        "id": "bIQIevuZuFs-",
        "colab_type": "text"
      },
      "source": [
        "When assigning a variable (or name) in Python, you are creating a reference to the object on the righthand side of the equals sign."
      ]
    },
    {
      "cell_type": "code",
      "metadata": {
        "deletable": true,
        "editable": true,
        "id": "AV2MBrqzuFs_",
        "colab_type": "code",
        "colab": {}
      },
      "source": [
        "a = [1, 2, 3]"
      ],
      "execution_count": 0,
      "outputs": []
    },
    {
      "cell_type": "code",
      "metadata": {
        "deletable": true,
        "editable": true,
        "id": "sp9abiNZuFtC",
        "colab_type": "code",
        "colab": {}
      },
      "source": [
        "b = a"
      ],
      "execution_count": 0,
      "outputs": []
    },
    {
      "cell_type": "code",
      "metadata": {
        "deletable": true,
        "editable": true,
        "id": "3AkpRRRquFtF",
        "colab_type": "code",
        "colab": {},
        "outputId": "9362bdc8-8aba-4990-eb46-a4b2ddfde969"
      },
      "source": [
        "a.append(2)\n",
        "b"
      ],
      "execution_count": 0,
      "outputs": [
        {
          "output_type": "execute_result",
          "data": {
            "text/plain": [
              "[1, 2, 3, 2]"
            ]
          },
          "metadata": {
            "tags": []
          },
          "execution_count": 4
        }
      ]
    },
    {
      "cell_type": "markdown",
      "metadata": {
        "id": "SKQGNG_OuFtJ",
        "colab_type": "text"
      },
      "source": [
        "Assignment is also referred to as binding, as we are binding a name to an object. \n",
        "<p>\n",
        "When you pass objects as arguments to a function, new local variables are created referencing the original objects without any copying.\n",
        "</p>\n",
        "If you bind a new object to a variable inside a function, that change will not be reflected in the parent scope. It is therefore possible to alter the internals of a <b>mutable</b> argument. Suppose we had the following function:</p>"
      ]
    },
    {
      "cell_type": "markdown",
      "metadata": {
        "deletable": true,
        "editable": true,
        "id": "2-YddEz-uFtJ",
        "colab_type": "text"
      },
      "source": [
        "```python\n",
        "def append_element(some_list, element):\n",
        "    some_list.append(element)\n",
        "```"
      ]
    },
    {
      "cell_type": "markdown",
      "metadata": {
        "deletable": true,
        "editable": true,
        "id": "n_VFMD5guFtK",
        "colab_type": "text"
      },
      "source": [
        "```python\n",
        "In [27]: data = [1, 2, 3]\n",
        "\n",
        "In [28]: append_element(data, 4)\n",
        "\n",
        "In [29]: data\n",
        "Out[29]: [1, 2, 3, 4]\n",
        "```"
      ]
    },
    {
      "cell_type": "markdown",
      "metadata": {
        "deletable": true,
        "editable": true,
        "id": "7BBWwDRtuFtL",
        "colab_type": "text"
      },
      "source": [
        "#### Dynamic references, strong types"
      ]
    },
    {
      "cell_type": "markdown",
      "metadata": {
        "id": "8SXn3GwAuFtM",
        "colab_type": "text"
      },
      "source": [
        "Object references in Python have no type associated with them"
      ]
    },
    {
      "cell_type": "code",
      "metadata": {
        "deletable": true,
        "editable": true,
        "id": "l0chn73suFtM",
        "colab_type": "code",
        "colab": {},
        "outputId": "2ae146c2-29fc-44d2-8de1-034336ae81d5"
      },
      "source": [
        "a = 5\n",
        "type(a)"
      ],
      "execution_count": 0,
      "outputs": [
        {
          "output_type": "execute_result",
          "data": {
            "text/plain": [
              "int"
            ]
          },
          "metadata": {
            "tags": []
          },
          "execution_count": 17
        }
      ]
    },
    {
      "cell_type": "code",
      "metadata": {
        "deletable": true,
        "editable": true,
        "id": "_QCMp1M5uFtP",
        "colab_type": "code",
        "colab": {},
        "outputId": "170c1a61-34f1-4d8b-ebf5-694e45e3c726"
      },
      "source": [
        "a = 'foo'\n",
        "type(a)"
      ],
      "execution_count": 0,
      "outputs": [
        {
          "output_type": "execute_result",
          "data": {
            "text/plain": [
              "str"
            ]
          },
          "metadata": {
            "tags": []
          },
          "execution_count": 18
        }
      ]
    },
    {
      "cell_type": "markdown",
      "metadata": {
        "id": "7m1I8dzluFtR",
        "colab_type": "text"
      },
      "source": [
        "Python is considered a strongly typed"
      ]
    },
    {
      "cell_type": "code",
      "metadata": {
        "deletable": true,
        "editable": true,
        "id": "BgSY1dVZuFtS",
        "colab_type": "code",
        "colab": {},
        "outputId": "674acf99-925a-4d7e-a9b7-28abbc2738e2"
      },
      "source": [
        "'5' + 5"
      ],
      "execution_count": 0,
      "outputs": [
        {
          "output_type": "error",
          "ename": "TypeError",
          "evalue": "can only concatenate str (not \"int\") to str",
          "traceback": [
            "\u001b[0;31m---------------------------------------------------------------------------\u001b[0m",
            "\u001b[0;31mTypeError\u001b[0m                                 Traceback (most recent call last)",
            "\u001b[0;32m<ipython-input-5-4dd8efb5fac1>\u001b[0m in \u001b[0;36m<module>\u001b[0;34m\u001b[0m\n\u001b[0;32m----> 1\u001b[0;31m \u001b[0;34m'5'\u001b[0m \u001b[0;34m+\u001b[0m \u001b[0;36m5\u001b[0m\u001b[0;34m\u001b[0m\u001b[0;34m\u001b[0m\u001b[0m\n\u001b[0m",
            "\u001b[0;31mTypeError\u001b[0m: can only concatenate str (not \"int\") to str"
          ]
        }
      ]
    },
    {
      "cell_type": "code",
      "metadata": {
        "deletable": true,
        "editable": true,
        "id": "ggsGtCMCuFtU",
        "colab_type": "code",
        "colab": {}
      },
      "source": [
        "a = 4.5\n",
        "b = 2\n",
        "# String formatting, to be visited later\n",
        "print('a is {0}, b is {1}'.format(type(a), type(b)))\n",
        "a / b"
      ],
      "execution_count": 0,
      "outputs": []
    },
    {
      "cell_type": "code",
      "metadata": {
        "deletable": true,
        "editable": true,
        "id": "KE-eH9ZFuFtW",
        "colab_type": "code",
        "colab": {}
      },
      "source": [
        "a = 5"
      ],
      "execution_count": 0,
      "outputs": []
    },
    {
      "cell_type": "code",
      "metadata": {
        "deletable": true,
        "editable": true,
        "id": "mKs_cmoxuFtZ",
        "colab_type": "code",
        "colab": {}
      },
      "source": [
        ""
      ],
      "execution_count": 0,
      "outputs": []
    },
    {
      "cell_type": "code",
      "metadata": {
        "deletable": true,
        "editable": true,
        "id": "JyuPH4XwuFtb",
        "colab_type": "code",
        "colab": {},
        "outputId": "a30d63b2-7f82-40ef-8337-99e5ce596b19"
      },
      "source": [
        "isinstance(a, int)"
      ],
      "execution_count": 0,
      "outputs": [
        {
          "output_type": "execute_result",
          "data": {
            "text/plain": [
              "True"
            ]
          },
          "metadata": {
            "tags": []
          },
          "execution_count": 19
        }
      ]
    },
    {
      "cell_type": "code",
      "metadata": {
        "deletable": true,
        "editable": true,
        "id": "AsVVNAYPuFtd",
        "colab_type": "code",
        "colab": {},
        "outputId": "8579521a-607f-4bd5-cafa-130949da17a0"
      },
      "source": [
        "a=\"a string\"\n",
        "isinstance(a, str)"
      ],
      "execution_count": 0,
      "outputs": [
        {
          "output_type": "execute_result",
          "data": {
            "text/plain": [
              "True"
            ]
          },
          "metadata": {
            "tags": []
          },
          "execution_count": 6
        }
      ]
    },
    {
      "cell_type": "code",
      "metadata": {
        "deletable": true,
        "editable": true,
        "id": "_pjZPY06uFtg",
        "colab_type": "code",
        "colab": {}
      },
      "source": [
        "a = 5; b = 4.5\n",
        "isinstance(a, (int, float))\n",
        "isinstance(b, (int, float))"
      ],
      "execution_count": 0,
      "outputs": []
    },
    {
      "cell_type": "markdown",
      "metadata": {
        "deletable": true,
        "editable": true,
        "id": "cPLyOf4SuFti",
        "colab_type": "text"
      },
      "source": [
        "#### Imports"
      ]
    },
    {
      "cell_type": "markdown",
      "metadata": {
        "id": "WbUFmPowuFti",
        "colab_type": "text"
      },
      "source": [
        "In Python a module is simply a file with the .py extension containing Python code. Suppose that we had the following module:\n"
      ]
    },
    {
      "cell_type": "markdown",
      "metadata": {
        "deletable": true,
        "editable": true,
        "id": "yFsfnnJsuFtj",
        "colab_type": "text"
      },
      "source": [
        "```python\n",
        "# some_module.py\n",
        "PI = 3.14159\n",
        "\n",
        "def f(x):\n",
        "    return x + 2\n",
        "\n",
        "def g(a, b):\n",
        "    return a + b\n",
        "```"
      ]
    },
    {
      "cell_type": "markdown",
      "metadata": {
        "id": "kkC2Tay4uFtk",
        "colab_type": "text"
      },
      "source": [
        "If we wanted to access the variables and functions defined in some_module.py, from\n",
        "another file in the same directory"
      ]
    },
    {
      "cell_type": "code",
      "metadata": {
        "id": "2_eG4z69uFtl",
        "colab_type": "code",
        "colab": {}
      },
      "source": [
        "import some_module \n",
        "result = some_module.f(5) \n",
        "pi = some_module.PI"
      ],
      "execution_count": 0,
      "outputs": []
    },
    {
      "cell_type": "code",
      "metadata": {
        "id": "0pID2mwmuFtn",
        "colab_type": "code",
        "colab": {}
      },
      "source": [
        "#Or equivalently:\n",
        "from some_module import f, g, PI result = g(5, PI)\n",
        "#By using the as keyword you can give imports different variable names: import some_module as sm\n",
        "from some_module import PI as pi, g as gf"
      ],
      "execution_count": 0,
      "outputs": []
    },
    {
      "cell_type": "markdown",
      "metadata": {
        "deletable": true,
        "editable": true,
        "id": "KMUe6M-iuFtp",
        "colab_type": "text"
      },
      "source": [
        "#### Binary operators and comparisons"
      ]
    },
    {
      "cell_type": "code",
      "metadata": {
        "deletable": true,
        "editable": true,
        "id": "RM5tqA7xuFtq",
        "colab_type": "code",
        "colab": {}
      },
      "source": [
        "5 - 7\n",
        "12 + 21.5\n",
        "5 <= 2"
      ],
      "execution_count": 0,
      "outputs": []
    },
    {
      "cell_type": "markdown",
      "metadata": {
        "id": "A8jphcDluFtw",
        "colab_type": "text"
      },
      "source": [
        "To check if two references refer to the same object, use the is keyword"
      ]
    },
    {
      "cell_type": "code",
      "metadata": {
        "deletable": true,
        "editable": true,
        "id": "98fwL2riuFtw",
        "colab_type": "code",
        "colab": {},
        "outputId": "520979e4-1ccb-4a7d-9bf1-71f0d0b9eeab"
      },
      "source": [
        "a = [1, 2, 3]\n",
        "b = a\n",
        "c = list(a)\n",
        "a is b\n",
        "a is not c"
      ],
      "execution_count": 0,
      "outputs": [
        {
          "output_type": "execute_result",
          "data": {
            "text/plain": [
              "True"
            ]
          },
          "metadata": {
            "tags": []
          },
          "execution_count": 20
        }
      ]
    },
    {
      "cell_type": "code",
      "metadata": {
        "deletable": true,
        "editable": true,
        "id": "109sW_fxuFty",
        "colab_type": "code",
        "colab": {},
        "outputId": "3833791c-0765-4f2f-92d1-20d7c74e71c2"
      },
      "source": [
        "a == c"
      ],
      "execution_count": 0,
      "outputs": [
        {
          "output_type": "execute_result",
          "data": {
            "text/plain": [
              "True"
            ]
          },
          "metadata": {
            "tags": []
          },
          "execution_count": 21
        }
      ]
    },
    {
      "cell_type": "code",
      "metadata": {
        "deletable": true,
        "editable": true,
        "id": "asHhHEhpuFt2",
        "colab_type": "code",
        "colab": {}
      },
      "source": [
        "a = None\n",
        "a is None"
      ],
      "execution_count": 0,
      "outputs": []
    },
    {
      "cell_type": "markdown",
      "metadata": {
        "id": "6QzbaW7ruFt4",
        "colab_type": "raw"
      },
      "source": [
        "For list of binary operations see Page 37 in book \"Python for data science\""
      ]
    },
    {
      "cell_type": "markdown",
      "metadata": {
        "deletable": true,
        "editable": true,
        "id": "6hco2IDBuFt5",
        "colab_type": "text"
      },
      "source": [
        "#### Mutable and immutable objects"
      ]
    },
    {
      "cell_type": "markdown",
      "metadata": {
        "id": "utrBmP_KuFt5",
        "colab_type": "text"
      },
      "source": [
        "Mutable: lists,dicts numpyarrays"
      ]
    },
    {
      "cell_type": "code",
      "metadata": {
        "deletable": true,
        "editable": true,
        "id": "sw17N229uFt6",
        "colab_type": "code",
        "colab": {},
        "outputId": "58528ade-15c2-4225-f3dc-0a4f575029b8"
      },
      "source": [
        "a_list = ['foo', 2, [4, 5]]\n",
        "a_list[2] = (3, 4)\n",
        "a_list"
      ],
      "execution_count": 0,
      "outputs": [
        {
          "output_type": "execute_result",
          "data": {
            "text/plain": [
              "['foo', 2, (3, 4)]"
            ]
          },
          "metadata": {
            "tags": []
          },
          "execution_count": 22
        }
      ]
    },
    {
      "cell_type": "markdown",
      "metadata": {
        "id": "VIrkqyJduFt9",
        "colab_type": "text"
      },
      "source": [
        "immutable: strings and tuples"
      ]
    },
    {
      "cell_type": "code",
      "metadata": {
        "deletable": true,
        "editable": true,
        "id": "M4mzxagMuFt-",
        "colab_type": "code",
        "colab": {},
        "outputId": "6f6fbd0e-a129-4934-82e0-a8675b6f9c48"
      },
      "source": [
        "a_tuple = (3, 5, (4, 5))\n",
        "a_tuple[1] = 'four'"
      ],
      "execution_count": 0,
      "outputs": [
        {
          "output_type": "error",
          "ename": "TypeError",
          "evalue": "'tuple' object does not support item assignment",
          "traceback": [
            "\u001b[0;31m---------------------------------------------------------------------------\u001b[0m",
            "\u001b[0;31mTypeError\u001b[0m                                 Traceback (most recent call last)",
            "\u001b[0;32m<ipython-input-23-2c9bddc8679c>\u001b[0m in \u001b[0;36m<module>\u001b[0;34m()\u001b[0m\n\u001b[1;32m      1\u001b[0m \u001b[0ma_tuple\u001b[0m \u001b[0;34m=\u001b[0m \u001b[0;34m(\u001b[0m\u001b[0;36m3\u001b[0m\u001b[0;34m,\u001b[0m \u001b[0;36m5\u001b[0m\u001b[0;34m,\u001b[0m \u001b[0;34m(\u001b[0m\u001b[0;36m4\u001b[0m\u001b[0;34m,\u001b[0m \u001b[0;36m5\u001b[0m\u001b[0;34m)\u001b[0m\u001b[0;34m)\u001b[0m\u001b[0;34m\u001b[0m\u001b[0m\n\u001b[0;32m----> 2\u001b[0;31m \u001b[0ma_tuple\u001b[0m\u001b[0;34m[\u001b[0m\u001b[0;36m1\u001b[0m\u001b[0;34m]\u001b[0m \u001b[0;34m=\u001b[0m \u001b[0;34m'four'\u001b[0m\u001b[0;34m\u001b[0m\u001b[0m\n\u001b[0m",
            "\u001b[0;31mTypeError\u001b[0m: 'tuple' object does not support item assignment"
          ]
        }
      ]
    },
    {
      "cell_type": "markdown",
      "metadata": {
        "deletable": true,
        "editable": true,
        "id": "Gn3FMLcFuFuA",
        "colab_type": "text"
      },
      "source": [
        "### Scalar Types"
      ]
    },
    {
      "cell_type": "markdown",
      "metadata": {
        "id": "8SF1rRSQuFuB",
        "colab_type": "text"
      },
      "source": [
        " built-in types for handling numerical data, strings, boolean (True or False) values, and dates and time. These <b>“single value”</b> types are also called scalar types "
      ]
    },
    {
      "cell_type": "markdown",
      "metadata": {
        "deletable": true,
        "editable": true,
        "id": "VzN54W6NuFuC",
        "colab_type": "text"
      },
      "source": [
        "#### Numeric types"
      ]
    },
    {
      "cell_type": "markdown",
      "metadata": {
        "id": "VryZ4zgtuFuD",
        "colab_type": "text"
      },
      "source": [
        "Float and int mainly. An int can store arbitrarily large numbers."
      ]
    },
    {
      "cell_type": "code",
      "metadata": {
        "deletable": true,
        "editable": true,
        "id": "DVvGdA5auFuE",
        "colab_type": "code",
        "colab": {},
        "outputId": "d6100ffb-8e23-47ec-e30a-66e0cc97b8e6"
      },
      "source": [
        "ival = 17239871\n",
        "ival ** 6"
      ],
      "execution_count": 0,
      "outputs": [
        {
          "output_type": "execute_result",
          "data": {
            "text/plain": [
              "26254519291092456596965462913230729701102721"
            ]
          },
          "metadata": {
            "tags": []
          },
          "execution_count": 24
        }
      ]
    },
    {
      "cell_type": "code",
      "metadata": {
        "deletable": true,
        "editable": true,
        "id": "TKO-eETEuFuG",
        "colab_type": "code",
        "colab": {}
      },
      "source": [
        "fval = 7.243\n",
        "fval2 = 6.78e-5"
      ],
      "execution_count": 0,
      "outputs": []
    },
    {
      "cell_type": "code",
      "metadata": {
        "deletable": true,
        "editable": true,
        "id": "4nCxWmyJuFuI",
        "colab_type": "code",
        "colab": {},
        "outputId": "00e9e9f7-7598-4569-e603-77cde3cad493"
      },
      "source": [
        "3 / 2"
      ],
      "execution_count": 0,
      "outputs": [
        {
          "output_type": "execute_result",
          "data": {
            "text/plain": [
              "1.5"
            ]
          },
          "metadata": {
            "tags": []
          },
          "execution_count": 25
        }
      ]
    },
    {
      "cell_type": "code",
      "metadata": {
        "deletable": true,
        "editable": true,
        "id": "XYVoWfKuuFuK",
        "colab_type": "code",
        "colab": {},
        "outputId": "9e03c82d-af8a-4c8a-ca5f-5e9ebc49fdee"
      },
      "source": [
        "3 // 2"
      ],
      "execution_count": 0,
      "outputs": [
        {
          "output_type": "execute_result",
          "data": {
            "text/plain": [
              "1"
            ]
          },
          "metadata": {
            "tags": []
          },
          "execution_count": 26
        }
      ]
    },
    {
      "cell_type": "markdown",
      "metadata": {
        "deletable": true,
        "editable": true,
        "id": "fSynm2iRuFuN",
        "colab_type": "text"
      },
      "source": [
        "#### Strings"
      ]
    },
    {
      "cell_type": "markdown",
      "metadata": {
        "deletable": true,
        "editable": true,
        "id": "qUeAYczduFuN",
        "colab_type": "text"
      },
      "source": [
        "a = 'one way of writing a string'<br>\n",
        "b = \"another way\""
      ]
    },
    {
      "cell_type": "code",
      "metadata": {
        "deletable": true,
        "editable": true,
        "id": "-9knWu4NuFuO",
        "colab_type": "code",
        "colab": {}
      },
      "source": [
        "c = \"\"\"\n",
        "This is a longer string that\n",
        "spans multiple lines\n",
        "\"\"\""
      ],
      "execution_count": 0,
      "outputs": []
    },
    {
      "cell_type": "code",
      "metadata": {
        "deletable": true,
        "editable": true,
        "id": "9-nrAWnsuFuQ",
        "colab_type": "code",
        "colab": {},
        "outputId": "47a7a9e4-d79c-464b-e905-e197debbe7d9"
      },
      "source": [
        "\n",
        "c.count('\\n')"
      ],
      "execution_count": 0,
      "outputs": [
        {
          "output_type": "execute_result",
          "data": {
            "text/plain": [
              "3"
            ]
          },
          "metadata": {
            "tags": []
          },
          "execution_count": 29
        }
      ]
    },
    {
      "cell_type": "code",
      "metadata": {
        "deletable": true,
        "editable": true,
        "id": "3y-aFATtuFuT",
        "colab_type": "code",
        "colab": {},
        "outputId": "605987ad-e8a6-487f-e1da-544a96784ae7"
      },
      "source": [
        "a = 'this is a string'\n",
        "a[10] = 'f'"
      ],
      "execution_count": 0,
      "outputs": [
        {
          "output_type": "error",
          "ename": "TypeError",
          "evalue": "'str' object does not support item assignment",
          "traceback": [
            "\u001b[0;31m---------------------------------------------------------------------------\u001b[0m",
            "\u001b[0;31mTypeError\u001b[0m                                 Traceback (most recent call last)",
            "\u001b[0;32m<ipython-input-30-cfa170a67205>\u001b[0m in \u001b[0;36m<module>\u001b[0;34m()\u001b[0m\n\u001b[1;32m      1\u001b[0m \u001b[0ma\u001b[0m \u001b[0;34m=\u001b[0m \u001b[0;34m'this is a string'\u001b[0m\u001b[0;34m\u001b[0m\u001b[0m\n\u001b[0;32m----> 2\u001b[0;31m \u001b[0ma\u001b[0m\u001b[0;34m[\u001b[0m\u001b[0;36m10\u001b[0m\u001b[0;34m]\u001b[0m \u001b[0;34m=\u001b[0m \u001b[0;34m'f'\u001b[0m\u001b[0;34m\u001b[0m\u001b[0m\n\u001b[0m",
            "\u001b[0;31mTypeError\u001b[0m: 'str' object does not support item assignment"
          ]
        }
      ]
    },
    {
      "cell_type": "code",
      "metadata": {
        "deletable": true,
        "editable": true,
        "id": "0R2FbjERuFuX",
        "colab_type": "code",
        "colab": {},
        "outputId": "2742f123-3798-4777-e1a2-8b7751d9afa8"
      },
      "source": [
        "b = a.replace('string', 'longer string')\n",
        "b"
      ],
      "execution_count": 0,
      "outputs": [
        {
          "output_type": "execute_result",
          "data": {
            "text/plain": [
              "'this is a longer string'"
            ]
          },
          "metadata": {
            "tags": []
          },
          "execution_count": 31
        }
      ]
    },
    {
      "cell_type": "code",
      "metadata": {
        "deletable": true,
        "editable": true,
        "id": "QgIVQWNBuFuZ",
        "colab_type": "code",
        "colab": {},
        "outputId": "9611347f-f532-412f-ef2b-cc098681fc8d"
      },
      "source": [
        "a"
      ],
      "execution_count": 0,
      "outputs": [
        {
          "output_type": "execute_result",
          "data": {
            "text/plain": [
              "'this is a string'"
            ]
          },
          "metadata": {
            "tags": []
          },
          "execution_count": 32
        }
      ]
    },
    {
      "cell_type": "code",
      "metadata": {
        "deletable": true,
        "editable": true,
        "id": "S-ZSF-8SuFud",
        "colab_type": "code",
        "colab": {},
        "outputId": "9bf7b7fb-76cb-4565-c529-81fd22adcc06"
      },
      "source": [
        "a = 5.6\n",
        "s = str(a)\n",
        "print(s)"
      ],
      "execution_count": 0,
      "outputs": [
        {
          "output_type": "stream",
          "text": [
            "5.6\n"
          ],
          "name": "stdout"
        }
      ]
    },
    {
      "cell_type": "code",
      "metadata": {
        "deletable": true,
        "editable": true,
        "id": "fLEiDD2muFuf",
        "colab_type": "code",
        "colab": {},
        "outputId": "943722f1-1184-4bdd-f7cf-3b97e891eadf"
      },
      "source": [
        "s = 'python'\n",
        "#Strings are a sequence of \n",
        "#Unicode characters and therefore can be treated like other sequences, such as lists and tuples\n",
        "list(s)"
      ],
      "execution_count": 0,
      "outputs": [
        {
          "output_type": "execute_result",
          "data": {
            "text/plain": [
              "['p', 'y', 't', 'h', 'o', 'n']"
            ]
          },
          "metadata": {
            "tags": []
          },
          "execution_count": 7
        }
      ]
    },
    {
      "cell_type": "code",
      "metadata": {
        "deletable": true,
        "editable": true,
        "id": "nXaKxtj0uFuh",
        "colab_type": "code",
        "colab": {},
        "outputId": "d90a7b25-1fc3-417d-866c-d537b53c23f5"
      },
      "source": [
        "s[:3]"
      ],
      "execution_count": 0,
      "outputs": [
        {
          "output_type": "execute_result",
          "data": {
            "text/plain": [
              "'pyt'"
            ]
          },
          "metadata": {
            "tags": []
          },
          "execution_count": 8
        }
      ]
    },
    {
      "cell_type": "code",
      "metadata": {
        "deletable": true,
        "editable": true,
        "id": "ZLo2yAQZuFuj",
        "colab_type": "code",
        "colab": {},
        "outputId": "50c102e8-0f35-43a9-9b73-eccbcaf43b5e"
      },
      "source": [
        "s = '12\\\\n34'# \\ is escape sequence\n",
        "print(s)"
      ],
      "execution_count": 0,
      "outputs": [
        {
          "output_type": "stream",
          "text": [
            "12\\n34\n"
          ],
          "name": "stdout"
        }
      ]
    },
    {
      "cell_type": "code",
      "metadata": {
        "deletable": true,
        "editable": true,
        "id": "HxNvCM7CuFuk",
        "colab_type": "code",
        "colab": {},
        "outputId": "bd1eb82f-0032-4326-ad0a-ac71148ac1a9"
      },
      "source": [
        "s = r'this\\has\\no\\special\\characters'\n",
        "#The r stands for raw.\n",
        "#preface the leading quote of the string with r=the characters should be interpreted as is:\n",
        "s"
      ],
      "execution_count": 0,
      "outputs": [
        {
          "output_type": "execute_result",
          "data": {
            "text/plain": [
              "'this\\\\has\\\\no\\\\special\\\\characters'"
            ]
          },
          "metadata": {
            "tags": []
          },
          "execution_count": 12
        }
      ]
    },
    {
      "cell_type": "code",
      "metadata": {
        "deletable": true,
        "editable": true,
        "id": "3RmJaSAfuFun",
        "colab_type": "code",
        "colab": {},
        "outputId": "1ed0c16e-24e0-4515-cc45-2cf6fb30da76"
      },
      "source": [
        "a = 'this is the first half '\n",
        "b = 'and this is the second half'\n",
        "a + b"
      ],
      "execution_count": 0,
      "outputs": [
        {
          "output_type": "execute_result",
          "data": {
            "text/plain": [
              "'this is the first half and this is the second half'"
            ]
          },
          "metadata": {
            "tags": []
          },
          "execution_count": 14
        }
      ]
    },
    {
      "cell_type": "code",
      "metadata": {
        "id": "YwUb1zbKuFup",
        "colab_type": "code",
        "colab": {},
        "outputId": "74cd059a-5254-450c-9854-c83e7a92f805"
      },
      "source": [
        "a*3"
      ],
      "execution_count": 0,
      "outputs": [
        {
          "output_type": "execute_result",
          "data": {
            "text/plain": [
              "'this is the first half this is the first half this is the first half '"
            ]
          },
          "metadata": {
            "tags": []
          },
          "execution_count": 15
        }
      ]
    },
    {
      "cell_type": "code",
      "metadata": {
        "deletable": true,
        "editable": true,
        "id": "zeK24U6AuFur",
        "colab_type": "code",
        "colab": {}
      },
      "source": [
        "template = '{0:.2f} {1:s} are worth US${2:d}'"
      ],
      "execution_count": 0,
      "outputs": []
    },
    {
      "cell_type": "code",
      "metadata": {
        "deletable": true,
        "editable": true,
        "id": "Fd2of7W4uFuu",
        "colab_type": "code",
        "colab": {},
        "outputId": "c3f805a1-afbf-4696-f744-2b1f6668aebd"
      },
      "source": [
        "template.format(4.5560, 'Argentine Pesos', 1)"
      ],
      "execution_count": 0,
      "outputs": [
        {
          "output_type": "execute_result",
          "data": {
            "text/plain": [
              "'4.56 Argentine Pesos are worth US$1'"
            ]
          },
          "metadata": {
            "tags": []
          },
          "execution_count": 40
        }
      ]
    },
    {
      "cell_type": "markdown",
      "metadata": {
        "deletable": true,
        "editable": true,
        "id": "x1e9rYCluFuw",
        "colab_type": "text"
      },
      "source": [
        "#### Bytes and Unicode"
      ]
    },
    {
      "cell_type": "code",
      "metadata": {
        "deletable": true,
        "editable": true,
        "id": "ioGi00ffuFux",
        "colab_type": "code",
        "colab": {}
      },
      "source": [
        "val = \"español\"\n",
        "val"
      ],
      "execution_count": 0,
      "outputs": []
    },
    {
      "cell_type": "code",
      "metadata": {
        "deletable": true,
        "editable": true,
        "id": "sDLWfsdRuFuz",
        "colab_type": "code",
        "colab": {}
      },
      "source": [
        "val_utf8 = val.encode('utf-8')\n",
        "val_utf8\n",
        "type(val_utf8)"
      ],
      "execution_count": 0,
      "outputs": []
    },
    {
      "cell_type": "code",
      "metadata": {
        "deletable": true,
        "editable": true,
        "id": "cEGfbQu-uFu0",
        "colab_type": "code",
        "colab": {}
      },
      "source": [
        "val_utf8.decode('utf-8')"
      ],
      "execution_count": 0,
      "outputs": []
    },
    {
      "cell_type": "code",
      "metadata": {
        "deletable": true,
        "editable": true,
        "id": "xCWGw0HhuFu2",
        "colab_type": "code",
        "colab": {}
      },
      "source": [
        "val.encode('latin1')\n",
        "val.encode('utf-16')\n",
        "val.encode('utf-16le')"
      ],
      "execution_count": 0,
      "outputs": []
    },
    {
      "cell_type": "code",
      "metadata": {
        "deletable": true,
        "editable": true,
        "id": "jlkxyVbwuFu3",
        "colab_type": "code",
        "colab": {}
      },
      "source": [
        "bytes_val = b'this is bytes'\n",
        "bytes_val\n",
        "decoded = bytes_val.decode('utf8')\n",
        "decoded  # this is str (Unicode) now"
      ],
      "execution_count": 0,
      "outputs": []
    },
    {
      "cell_type": "markdown",
      "metadata": {
        "deletable": true,
        "editable": true,
        "id": "EJnvhnSWuFu5",
        "colab_type": "text"
      },
      "source": [
        "#### Booleans"
      ]
    },
    {
      "cell_type": "code",
      "metadata": {
        "deletable": true,
        "editable": true,
        "id": "ehSeeUFEuFu5",
        "colab_type": "code",
        "colab": {}
      },
      "source": [
        "True and True\n",
        "False or True"
      ],
      "execution_count": 0,
      "outputs": []
    },
    {
      "cell_type": "markdown",
      "metadata": {
        "deletable": true,
        "editable": true,
        "id": "aIrRYROquFu7",
        "colab_type": "text"
      },
      "source": [
        "#### Type casting"
      ]
    },
    {
      "cell_type": "code",
      "metadata": {
        "deletable": true,
        "editable": true,
        "id": "TUuYecoEuFu7",
        "colab_type": "code",
        "colab": {},
        "outputId": "3381ba40-84ed-4664-8bc3-a3e4699603a3"
      },
      "source": [
        "s = '3.14159'\n",
        "fval = float(s)\n",
        "type(fval)\n",
        "int(fval)\n",
        "bool(fval)\n",
        "bool(0)"
      ],
      "execution_count": 0,
      "outputs": [
        {
          "output_type": "execute_result",
          "data": {
            "text/plain": [
              "False"
            ]
          },
          "metadata": {
            "tags": []
          },
          "execution_count": 41
        }
      ]
    },
    {
      "cell_type": "markdown",
      "metadata": {
        "deletable": true,
        "editable": true,
        "id": "j3zvbJtWuFu9",
        "colab_type": "text"
      },
      "source": [
        "#### None"
      ]
    },
    {
      "cell_type": "markdown",
      "metadata": {
        "id": "vI79oI7cuFu_",
        "colab_type": "text"
      },
      "source": [
        "None is the Python null value type"
      ]
    },
    {
      "cell_type": "code",
      "metadata": {
        "deletable": true,
        "editable": true,
        "id": "38GKuXVhuFvA",
        "colab_type": "code",
        "colab": {}
      },
      "source": [
        "a = None\n",
        "a is None\n",
        "b = 5\n",
        "b is not None"
      ],
      "execution_count": 0,
      "outputs": []
    },
    {
      "cell_type": "markdown",
      "metadata": {
        "deletable": true,
        "editable": true,
        "id": "A5CmSAiouFvB",
        "colab_type": "text"
      },
      "source": [
        "a technical point: None is not only a reserved keyword but also a unique instance of NoneType:"
      ]
    },
    {
      "cell_type": "code",
      "metadata": {
        "deletable": true,
        "editable": true,
        "id": "VSh6fsbUuFvC",
        "colab_type": "code",
        "colab": {}
      },
      "source": [
        "type(None)"
      ],
      "execution_count": 0,
      "outputs": []
    },
    {
      "cell_type": "markdown",
      "metadata": {
        "deletable": true,
        "editable": true,
        "id": "H3z9VcVduFvD",
        "colab_type": "text"
      },
      "source": [
        "#### Dates and times"
      ]
    },
    {
      "cell_type": "markdown",
      "metadata": {
        "id": "kPyd-FiQuFvE",
        "colab_type": "text"
      },
      "source": [
        "The built-in Python datetime module provides <b>datetime, date, and time types</b>. The datetime type,  combines the information stored in date and time and is the most commonly used:\n"
      ]
    },
    {
      "cell_type": "code",
      "metadata": {
        "deletable": true,
        "editable": true,
        "id": "77OFqfABuFvE",
        "colab_type": "code",
        "colab": {},
        "outputId": "7b15b276-4c30-424e-dcd7-8fe8cd743f28"
      },
      "source": [
        "from datetime import datetime, date, time\n",
        "dt = datetime(2011, 10, 29, 20, 30, 21)\n",
        "dt.day\n",
        "dt.minute"
      ],
      "execution_count": 0,
      "outputs": [
        {
          "output_type": "execute_result",
          "data": {
            "text/plain": [
              "30"
            ]
          },
          "metadata": {
            "tags": []
          },
          "execution_count": 42
        }
      ]
    },
    {
      "cell_type": "code",
      "metadata": {
        "deletable": true,
        "editable": true,
        "id": "Rv51uVPauFvG",
        "colab_type": "code",
        "colab": {},
        "outputId": "d17daa7a-9294-4837-b054-166e4b6c5e9d"
      },
      "source": [
        "dt.date()\n",
        "dt.time()"
      ],
      "execution_count": 0,
      "outputs": [
        {
          "output_type": "execute_result",
          "data": {
            "text/plain": [
              "datetime.time(20, 30, 21)"
            ]
          },
          "metadata": {
            "tags": []
          },
          "execution_count": 43
        }
      ]
    },
    {
      "cell_type": "code",
      "metadata": {
        "deletable": true,
        "editable": true,
        "id": "hOes7j9muFvJ",
        "colab_type": "code",
        "colab": {},
        "outputId": "3ef1fa34-9434-4ad1-8b3d-1d4bcd67d08b"
      },
      "source": [
        "dt.strftime('%m/%d/%Y %H:%M')#The strftime method formats a datetime as a string."
      ],
      "execution_count": 0,
      "outputs": [
        {
          "output_type": "execute_result",
          "data": {
            "text/plain": [
              "'10/29/2011 20:30'"
            ]
          },
          "metadata": {
            "tags": []
          },
          "execution_count": 44
        }
      ]
    },
    {
      "cell_type": "code",
      "metadata": {
        "deletable": true,
        "editable": true,
        "id": "BDqRbvDJuFvL",
        "colab_type": "code",
        "colab": {}
      },
      "source": [
        "#Strings can be converted (parsed) into datetime objects with the strptime function:\n",
        "datetime.strptime('20091031', '%Y%m%d')"
      ],
      "execution_count": 0,
      "outputs": []
    },
    {
      "cell_type": "code",
      "metadata": {
        "deletable": true,
        "editable": true,
        "id": "XDd2JoUGuFvN",
        "colab_type": "code",
        "colab": {},
        "outputId": "30dfe160-6f73-40da-cf03-8ea95219a7ed"
      },
      "source": [
        "dt.replace(minute=0, second=0)"
      ],
      "execution_count": 0,
      "outputs": [
        {
          "output_type": "execute_result",
          "data": {
            "text/plain": [
              "datetime.datetime(2011, 10, 29, 20, 0)"
            ]
          },
          "metadata": {
            "tags": []
          },
          "execution_count": 45
        }
      ]
    },
    {
      "cell_type": "code",
      "metadata": {
        "id": "dy8ILmZBuFvP",
        "colab_type": "code",
        "colab": {},
        "outputId": "c7b03777-87f8-4e90-c648-f17e0b945957"
      },
      "source": [
        "datetime.now()"
      ],
      "execution_count": 0,
      "outputs": [
        {
          "output_type": "execute_result",
          "data": {
            "text/plain": [
              "datetime.datetime(2019, 2, 20, 12, 6, 0, 31777)"
            ]
          },
          "metadata": {
            "tags": []
          },
          "execution_count": 46
        }
      ]
    },
    {
      "cell_type": "code",
      "metadata": {
        "deletable": true,
        "editable": true,
        "id": "xH2m5y7muFvR",
        "colab_type": "code",
        "colab": {}
      },
      "source": [
        "#datetime.datetime is an immutable type, methods like these always produce new objects.\n",
        "dt2 = datetime(2011, 11, 15, 22, 30)\n",
        "delta = dt2 - dt\n",
        "delta\n",
        "type(delta)"
      ],
      "execution_count": 0,
      "outputs": []
    },
    {
      "cell_type": "code",
      "metadata": {
        "deletable": true,
        "editable": true,
        "id": "btL4HR1ZuFvT",
        "colab_type": "code",
        "colab": {}
      },
      "source": [
        "dt\n",
        "dt + delta"
      ],
      "execution_count": 0,
      "outputs": []
    },
    {
      "cell_type": "markdown",
      "metadata": {
        "deletable": true,
        "editable": true,
        "id": "gbZJri1puFvV",
        "colab_type": "text"
      },
      "source": [
        "### Control Flow"
      ]
    },
    {
      "cell_type": "markdown",
      "metadata": {
        "deletable": true,
        "editable": true,
        "id": "YWnFtX0HuFvV",
        "colab_type": "text"
      },
      "source": [
        "#### if, elif, and else"
      ]
    },
    {
      "cell_type": "code",
      "metadata": {
        "deletable": true,
        "editable": true,
        "id": "h4ExH-NquFvW",
        "colab_type": "code",
        "colab": {}
      },
      "source": [
        "x=7\n",
        "if x < 0:\n",
        "    print('It\\'s negative')"
      ],
      "execution_count": 0,
      "outputs": []
    },
    {
      "cell_type": "code",
      "metadata": {
        "deletable": true,
        "editable": true,
        "id": "K_DHteQmuFvX",
        "colab_type": "code",
        "colab": {},
        "outputId": "86c22421-685c-4c36-e3f5-c86600340402"
      },
      "source": [
        "if x < 0:\n",
        "    print(r\"It's negative\")\n",
        "elif x == 0:\n",
        "    print('Equal to zero')\n",
        "elif 0 < x < 5:\n",
        "    print('Positive but smaller than 5')\n",
        "else:\n",
        "    print('Positive and larger than or equal to 5')#catch all else"
      ],
      "execution_count": 0,
      "outputs": [
        {
          "output_type": "stream",
          "text": [
            "Positive and larger than or equal to 5\n"
          ],
          "name": "stdout"
        }
      ]
    },
    {
      "cell_type": "code",
      "metadata": {
        "deletable": true,
        "editable": true,
        "id": "G38so9I3uFvZ",
        "colab_type": "code",
        "colab": {}
      },
      "source": [
        "a = 5\n",
        "b = 7\n",
        "c = 8\n",
        "d = 4\n",
        "if a < b or c > d:\n",
        "    print('Made it')"
      ],
      "execution_count": 0,
      "outputs": []
    },
    {
      "cell_type": "code",
      "metadata": {
        "deletable": true,
        "editable": true,
        "id": "HDM2tIn4uFva",
        "colab_type": "code",
        "colab": {},
        "outputId": "7c386f22-6dcb-4445-ff3b-90b9453af3b5"
      },
      "source": [
        "4 > 3 > 2 > 1"
      ],
      "execution_count": 0,
      "outputs": [
        {
          "output_type": "execute_result",
          "data": {
            "text/plain": [
              "True"
            ]
          },
          "metadata": {
            "tags": []
          },
          "execution_count": 47
        }
      ]
    },
    {
      "cell_type": "markdown",
      "metadata": {
        "deletable": true,
        "editable": true,
        "id": "G8a_L1MiuFvd",
        "colab_type": "text"
      },
      "source": [
        "#### for loops"
      ]
    },
    {
      "cell_type": "code",
      "metadata": {
        "deletable": true,
        "editable": true,
        "id": "NMqMZsBVuFve",
        "colab_type": "code",
        "colab": {}
      },
      "source": [
        "for value in collection:\n",
        "    # do something with value"
      ],
      "execution_count": 0,
      "outputs": []
    },
    {
      "cell_type": "code",
      "metadata": {
        "deletable": true,
        "editable": true,
        "id": "1OiD4r-euFvh",
        "colab_type": "code",
        "colab": {}
      },
      "source": [
        "sequence = [1, 2, None, 4, None, 5]\n",
        "total = 0\n",
        "for value in sequence:\n",
        "    if value is None:\n",
        "        continue\n",
        "    total += value"
      ],
      "execution_count": 0,
      "outputs": []
    },
    {
      "cell_type": "code",
      "metadata": {
        "deletable": true,
        "editable": true,
        "id": "M6mW5DNWuFvj",
        "colab_type": "code",
        "colab": {}
      },
      "source": [
        "sequence = [1, 2, 0, 4, 6, 5, 2, 1]\n",
        "total_until_5 = 0\n",
        "for value in sequence:\n",
        "    if value == 5:\n",
        "        break\n",
        "    total_until_5 += value"
      ],
      "execution_count": 0,
      "outputs": []
    },
    {
      "cell_type": "code",
      "metadata": {
        "deletable": true,
        "editable": true,
        "id": "6sjX9NppuFvk",
        "colab_type": "code",
        "colab": {}
      },
      "source": [
        "for i in range(4):\n",
        "    for j in range(4):\n",
        "        if j > i:\n",
        "            break\n",
        "        print((i, j))"
      ],
      "execution_count": 0,
      "outputs": []
    },
    {
      "cell_type": "code",
      "metadata": {
        "id": "Ga4r0mYSuFvl",
        "colab_type": "code",
        "colab": {},
        "outputId": "b0ba87c5-e036-4834-ea15-4c3f909c16a1"
      },
      "source": [
        "range(4)"
      ],
      "execution_count": 0,
      "outputs": [
        {
          "output_type": "execute_result",
          "data": {
            "text/plain": [
              "range(0, 4)"
            ]
          },
          "metadata": {
            "tags": []
          },
          "execution_count": 48
        }
      ]
    },
    {
      "cell_type": "code",
      "metadata": {
        "deletable": true,
        "editable": true,
        "id": "Qp48diT2uFvm",
        "colab_type": "code",
        "colab": {}
      },
      "source": [
        "for a, b, c in iterator:\n",
        "    # do something"
      ],
      "execution_count": 0,
      "outputs": []
    },
    {
      "cell_type": "markdown",
      "metadata": {
        "deletable": true,
        "editable": true,
        "id": "kConiM_3uFvo",
        "colab_type": "text"
      },
      "source": [
        "#### while loops"
      ]
    },
    {
      "cell_type": "code",
      "metadata": {
        "deletable": true,
        "editable": true,
        "id": "AEPX0nbguFvo",
        "colab_type": "code",
        "colab": {}
      },
      "source": [
        "x = 256\n",
        "total = 0\n",
        "while x > 0:\n",
        "    if total > 500:\n",
        "        break\n",
        "    total += x\n",
        "    x = x // 2"
      ],
      "execution_count": 0,
      "outputs": []
    },
    {
      "cell_type": "markdown",
      "metadata": {
        "deletable": true,
        "editable": true,
        "id": "YB1DE013uFvp",
        "colab_type": "text"
      },
      "source": [
        "#### pass"
      ]
    },
    {
      "cell_type": "code",
      "metadata": {
        "deletable": true,
        "editable": true,
        "id": "oqX_wsQTuFvq",
        "colab_type": "code",
        "colab": {}
      },
      "source": [
        "if x < 0:\n",
        "    print('negative!')\n",
        "elif x == 0:\n",
        "    # TODO: put something smart here\n",
        "    pass\n",
        "else:\n",
        "    print('positive!')"
      ],
      "execution_count": 0,
      "outputs": []
    },
    {
      "cell_type": "markdown",
      "metadata": {
        "deletable": true,
        "editable": true,
        "id": "4S6vaUYSuFvr",
        "colab_type": "text"
      },
      "source": [
        "#### range"
      ]
    },
    {
      "cell_type": "code",
      "metadata": {
        "deletable": true,
        "editable": true,
        "id": "Mu2sA5b1uFvr",
        "colab_type": "code",
        "colab": {},
        "outputId": "81858c3e-8a60-49de-defc-80dde12be341"
      },
      "source": [
        "range(10)\n",
        "list(range(10))"
      ],
      "execution_count": 0,
      "outputs": [
        {
          "output_type": "execute_result",
          "data": {
            "text/plain": [
              "[0, 1, 2, 3, 4, 5, 6, 7, 8, 9]"
            ]
          },
          "metadata": {
            "tags": []
          },
          "execution_count": 49
        }
      ]
    },
    {
      "cell_type": "code",
      "metadata": {
        "deletable": true,
        "editable": true,
        "id": "Zaeop6Z8uFvt",
        "colab_type": "code",
        "colab": {},
        "outputId": "87d251b4-c79f-4047-820e-c12d8b421dfe"
      },
      "source": [
        "list(range(0, 20, 2))\n",
        "list(range(5, 0, -1))"
      ],
      "execution_count": 0,
      "outputs": [
        {
          "output_type": "execute_result",
          "data": {
            "text/plain": [
              "[5, 4, 3, 2, 1]"
            ]
          },
          "metadata": {
            "tags": []
          },
          "execution_count": 50
        }
      ]
    },
    {
      "cell_type": "code",
      "metadata": {
        "deletable": true,
        "editable": true,
        "id": "M2vJfa-quFvu",
        "colab_type": "code",
        "colab": {}
      },
      "source": [
        "#A common use of range is for iterating through sequences by index:\n",
        "seq = [\"a\", \"b\", 3, 4]\n",
        "for i in range(len(seq)):\n",
        "    val = seq[i]"
      ],
      "execution_count": 0,
      "outputs": []
    },
    {
      "cell_type": "code",
      "metadata": {
        "deletable": true,
        "editable": true,
        "id": "KjZXlkqcuFvv",
        "colab_type": "code",
        "colab": {}
      },
      "source": [
        "#While you can use functions like list to store all the integers generated by range in some other data\n",
        "#structure, often the default iterator form will be what you want.\n",
        "#This snippet sums all numbers from 0 to 99,999 that are multiples of 3 or 5:\n",
        "#While the range generated can be arbitrarily large, the memory use at any given time may be very small.\n",
        "sum = 0\n",
        "for i in range(100000):\n",
        "    # % is the modulo operator\n",
        "    if i % 3 == 0 or i % 5 == 0:\n",
        "        sum += i"
      ],
      "execution_count": 0,
      "outputs": []
    },
    {
      "cell_type": "markdown",
      "metadata": {
        "deletable": true,
        "editable": true,
        "id": "Aim9hIIPuFvw",
        "colab_type": "text"
      },
      "source": [
        "#### Ternary expressions"
      ]
    },
    {
      "cell_type": "markdown",
      "metadata": {
        "deletable": true,
        "editable": true,
        "id": "tcJamFq8uFvy",
        "colab_type": "text"
      },
      "source": [
        "<p>A ternary expression in Python allows you to combine an if-else block that pro‐ duces a value into a single line or expression. The syntax for this in Python is:</p>\n",
        "value = true-expr if condition else false-expr"
      ]
    },
    {
      "cell_type": "code",
      "metadata": {
        "deletable": true,
        "editable": true,
        "id": "I3CWF6RMuFvy",
        "colab_type": "code",
        "colab": {}
      },
      "source": [
        "x = 5\n",
        "'Non-negative' if x >= 0 else 'Negative'"
      ],
      "execution_count": 0,
      "outputs": []
    }
  ]
}